{
 "cells": [
  {
   "cell_type": "markdown",
   "metadata": {},
   "source": [
    "# Project: Identify Customer Segments\n",
    "\n",
    "In this project, you will apply unsupervised learning techniques to identify segments of the population that form the core customer base for a mail-order sales company in Germany. These segments can then be used to direct marketing campaigns towards audiences that will have the highest expected rate of returns. The data that you will use has been provided by our partners at Bertelsmann Arvato Analytics, and represents a real-life data science task.\n",
    "\n",
    "This notebook will help you complete this task by providing a framework within which you will perform your analysis steps. In each step of the project, you will see some text describing the subtask that you will perform, followed by one or more code cells for you to complete your work. **Feel free to add additional code and markdown cells as you go along so that you can explore everything in precise chunks.** The code cells provided in the base template will outline only the major tasks, and will usually not be enough to cover all of the minor tasks that comprise it.\n",
    "\n",
    "It should be noted that while there will be precise guidelines on how you should handle certain tasks in the project, there will also be places where an exact specification is not provided. **There will be times in the project where you will need to make and justify your own decisions on how to treat the data.** These are places where there may not be only one way to handle the data. In real-life tasks, there may be many valid ways to approach an analysis task. One of the most important things you can do is clearly document your approach so that other scientists can understand the decisions you've made.\n",
    "\n",
    "At the end of most sections, there will be a Markdown cell labeled **Discussion**. In these cells, you will report your findings for the completed section, as well as document the decisions that you made in your approach to each subtask. **Your project will be evaluated not just on the code used to complete the tasks outlined, but also your communication about your observations and conclusions at each stage.**"
   ]
  },
  {
   "cell_type": "code",
   "execution_count": 1,
   "metadata": {},
   "outputs": [],
   "source": [
    "# import libraries here; add more as necessary\n",
    "import numpy as np\n",
    "import pandas as pd\n",
    "import matplotlib.pyplot as plt\n",
    "import seaborn as sns\n",
    "from sklearn.preprocessing import StandardScaler, Imputer\n",
    "\n",
    "# magic word for producing visualizations in notebook\n",
    "%matplotlib inline"
   ]
  },
  {
   "cell_type": "markdown",
   "metadata": {},
   "source": [
    "### Step 0: Load the Data\n",
    "\n",
    "There are four files associated with this project (not including this one):\n",
    "\n",
    "- `Udacity_AZDIAS_Subset.csv`: Demographics data for the general population of Germany; 891211 persons (rows) x 85 features (columns).\n",
    "- `Udacity_CUSTOMERS_Subset.csv`: Demographics data for customers of a mail-order company; 191652 persons (rows) x 85 features (columns).\n",
    "- `Data_Dictionary.md`: Detailed information file about the features in the provided datasets.\n",
    "- `AZDIAS_Feature_Summary.csv`: Summary of feature attributes for demographics data; 85 features (rows) x 4 columns\n",
    "\n",
    "Each row of the demographics files represents a single person, but also includes information outside of individuals, including information about their household, building, and neighborhood. You will use this information to cluster the general population into groups with similar demographic properties. Then, you will see how the people in the customers dataset fit into those created clusters. The hope here is that certain clusters are over-represented in the customers data, as compared to the general population; those over-represented clusters will be assumed to be part of the core userbase. This information can then be used for further applications, such as targeting for a marketing campaign.\n",
    "\n",
    "To start off with, load in the demographics data for the general population into a pandas DataFrame, and do the same for the feature attributes summary. Note for all of the `.csv` data files in this project: they're semicolon (`;`) delimited, so you'll need an additional argument in your [`read_csv()`](https://pandas.pydata.org/pandas-docs/stable/generated/pandas.read_csv.html) call to read in the data properly. Also, considering the size of the main dataset, it may take some time for it to load completely.\n",
    "\n",
    "Once the dataset is loaded, it's recommended that you take a little bit of time just browsing the general structure of the dataset and feature summary file. You'll be getting deep into the innards of the cleaning in the first major step of the project, so gaining some general familiarity can help you get your bearings."
   ]
  },
  {
   "cell_type": "code",
   "execution_count": 58,
   "metadata": {},
   "outputs": [],
   "source": [
    "# Load in the general demographics data.\n",
    "azdias = pd.read_csv(\"Udacity_AZDIAS_Subset.csv\",sep=';')\n",
    "\n",
    "# Load in the feature summary file.\n",
    "feat_info = pd.read_csv(\"AZDIAS_Feature_Summary.csv\",sep=';')\n",
    "feat_info1=feat_info"
   ]
  },
  {
   "cell_type": "code",
   "execution_count": 3,
   "metadata": {},
   "outputs": [
    {
     "name": "stdout",
     "output_type": "stream",
     "text": [
      "AZDIAS dataset, Total rows = 891221 and Columns = 85\n",
      "Customer dataset, Total rows = 85 and Columns = 4\n"
     ]
    }
   ],
   "source": [
    "# Check the structure of the data after it's loaded (e.g. print the number of\n",
    "# rows and columns, print the first few rows).\n",
    "\n",
    "print(\"AZDIAS dataset, Total rows = {} and Columns = {}\".format(azdias.shape[0],azdias.shape[1]))\n",
    "print(\"Customer dataset, Total rows = {} and Columns = {}\".format(feat_info.shape[0],feat_info.shape[1]))"
   ]
  },
  {
   "cell_type": "code",
   "execution_count": 4,
   "metadata": {},
   "outputs": [
    {
     "data": {
      "text/html": [
       "<div>\n",
       "<style scoped>\n",
       "    .dataframe tbody tr th:only-of-type {\n",
       "        vertical-align: middle;\n",
       "    }\n",
       "\n",
       "    .dataframe tbody tr th {\n",
       "        vertical-align: top;\n",
       "    }\n",
       "\n",
       "    .dataframe thead th {\n",
       "        text-align: right;\n",
       "    }\n",
       "</style>\n",
       "<table border=\"1\" class=\"dataframe\">\n",
       "  <thead>\n",
       "    <tr style=\"text-align: right;\">\n",
       "      <th></th>\n",
       "      <th>AGER_TYP</th>\n",
       "      <th>ALTERSKATEGORIE_GROB</th>\n",
       "      <th>ANREDE_KZ</th>\n",
       "      <th>CJT_GESAMTTYP</th>\n",
       "      <th>FINANZ_MINIMALIST</th>\n",
       "      <th>FINANZ_SPARER</th>\n",
       "      <th>FINANZ_VORSORGER</th>\n",
       "      <th>FINANZ_ANLEGER</th>\n",
       "      <th>FINANZ_UNAUFFAELLIGER</th>\n",
       "      <th>FINANZ_HAUSBAUER</th>\n",
       "      <th>...</th>\n",
       "      <th>PLZ8_ANTG1</th>\n",
       "      <th>PLZ8_ANTG2</th>\n",
       "      <th>PLZ8_ANTG3</th>\n",
       "      <th>PLZ8_ANTG4</th>\n",
       "      <th>PLZ8_BAUMAX</th>\n",
       "      <th>PLZ8_HHZ</th>\n",
       "      <th>PLZ8_GBZ</th>\n",
       "      <th>ARBEIT</th>\n",
       "      <th>ORTSGR_KLS9</th>\n",
       "      <th>RELAT_AB</th>\n",
       "    </tr>\n",
       "  </thead>\n",
       "  <tbody>\n",
       "    <tr>\n",
       "      <th>0</th>\n",
       "      <td>-1</td>\n",
       "      <td>2</td>\n",
       "      <td>1</td>\n",
       "      <td>2.0</td>\n",
       "      <td>3</td>\n",
       "      <td>4</td>\n",
       "      <td>3</td>\n",
       "      <td>5</td>\n",
       "      <td>5</td>\n",
       "      <td>3</td>\n",
       "      <td>...</td>\n",
       "      <td>NaN</td>\n",
       "      <td>NaN</td>\n",
       "      <td>NaN</td>\n",
       "      <td>NaN</td>\n",
       "      <td>NaN</td>\n",
       "      <td>NaN</td>\n",
       "      <td>NaN</td>\n",
       "      <td>NaN</td>\n",
       "      <td>NaN</td>\n",
       "      <td>NaN</td>\n",
       "    </tr>\n",
       "    <tr>\n",
       "      <th>1</th>\n",
       "      <td>-1</td>\n",
       "      <td>1</td>\n",
       "      <td>2</td>\n",
       "      <td>5.0</td>\n",
       "      <td>1</td>\n",
       "      <td>5</td>\n",
       "      <td>2</td>\n",
       "      <td>5</td>\n",
       "      <td>4</td>\n",
       "      <td>5</td>\n",
       "      <td>...</td>\n",
       "      <td>2.0</td>\n",
       "      <td>3.0</td>\n",
       "      <td>2.0</td>\n",
       "      <td>1.0</td>\n",
       "      <td>1.0</td>\n",
       "      <td>5.0</td>\n",
       "      <td>4.0</td>\n",
       "      <td>3.0</td>\n",
       "      <td>5.0</td>\n",
       "      <td>4.0</td>\n",
       "    </tr>\n",
       "  </tbody>\n",
       "</table>\n",
       "<p>2 rows × 85 columns</p>\n",
       "</div>"
      ],
      "text/plain": [
       "   AGER_TYP  ALTERSKATEGORIE_GROB  ANREDE_KZ  CJT_GESAMTTYP  \\\n",
       "0        -1                     2          1            2.0   \n",
       "1        -1                     1          2            5.0   \n",
       "\n",
       "   FINANZ_MINIMALIST  FINANZ_SPARER  FINANZ_VORSORGER  FINANZ_ANLEGER  \\\n",
       "0                  3              4                 3               5   \n",
       "1                  1              5                 2               5   \n",
       "\n",
       "   FINANZ_UNAUFFAELLIGER  FINANZ_HAUSBAUER    ...     PLZ8_ANTG1  PLZ8_ANTG2  \\\n",
       "0                      5                 3    ...            NaN         NaN   \n",
       "1                      4                 5    ...            2.0         3.0   \n",
       "\n",
       "   PLZ8_ANTG3  PLZ8_ANTG4  PLZ8_BAUMAX  PLZ8_HHZ  PLZ8_GBZ  ARBEIT  \\\n",
       "0         NaN         NaN          NaN       NaN       NaN     NaN   \n",
       "1         2.0         1.0          1.0       5.0       4.0     3.0   \n",
       "\n",
       "   ORTSGR_KLS9  RELAT_AB  \n",
       "0          NaN       NaN  \n",
       "1          5.0       4.0  \n",
       "\n",
       "[2 rows x 85 columns]"
      ]
     },
     "execution_count": 4,
     "metadata": {},
     "output_type": "execute_result"
    }
   ],
   "source": [
    "# View Data \n",
    "azdias.head(2)"
   ]
  },
  {
   "cell_type": "code",
   "execution_count": 59,
   "metadata": {
    "scrolled": true
   },
   "outputs": [
    {
     "data": {
      "text/html": [
       "<div>\n",
       "<style scoped>\n",
       "    .dataframe tbody tr th:only-of-type {\n",
       "        vertical-align: middle;\n",
       "    }\n",
       "\n",
       "    .dataframe tbody tr th {\n",
       "        vertical-align: top;\n",
       "    }\n",
       "\n",
       "    .dataframe thead th {\n",
       "        text-align: right;\n",
       "    }\n",
       "</style>\n",
       "<table border=\"1\" class=\"dataframe\">\n",
       "  <thead>\n",
       "    <tr style=\"text-align: right;\">\n",
       "      <th></th>\n",
       "      <th>attribute</th>\n",
       "      <th>information_level</th>\n",
       "      <th>type</th>\n",
       "      <th>missing_or_unknown</th>\n",
       "    </tr>\n",
       "  </thead>\n",
       "  <tbody>\n",
       "    <tr>\n",
       "      <th>0</th>\n",
       "      <td>AGER_TYP</td>\n",
       "      <td>person</td>\n",
       "      <td>categorical</td>\n",
       "      <td>[-1,0]</td>\n",
       "    </tr>\n",
       "    <tr>\n",
       "      <th>1</th>\n",
       "      <td>ALTERSKATEGORIE_GROB</td>\n",
       "      <td>person</td>\n",
       "      <td>ordinal</td>\n",
       "      <td>[-1,0,9]</td>\n",
       "    </tr>\n",
       "    <tr>\n",
       "      <th>2</th>\n",
       "      <td>ANREDE_KZ</td>\n",
       "      <td>person</td>\n",
       "      <td>categorical</td>\n",
       "      <td>[-1,0]</td>\n",
       "    </tr>\n",
       "    <tr>\n",
       "      <th>3</th>\n",
       "      <td>CJT_GESAMTTYP</td>\n",
       "      <td>person</td>\n",
       "      <td>categorical</td>\n",
       "      <td>[0]</td>\n",
       "    </tr>\n",
       "    <tr>\n",
       "      <th>4</th>\n",
       "      <td>FINANZ_MINIMALIST</td>\n",
       "      <td>person</td>\n",
       "      <td>ordinal</td>\n",
       "      <td>[-1]</td>\n",
       "    </tr>\n",
       "    <tr>\n",
       "      <th>5</th>\n",
       "      <td>FINANZ_SPARER</td>\n",
       "      <td>person</td>\n",
       "      <td>ordinal</td>\n",
       "      <td>[-1]</td>\n",
       "    </tr>\n",
       "    <tr>\n",
       "      <th>6</th>\n",
       "      <td>FINANZ_VORSORGER</td>\n",
       "      <td>person</td>\n",
       "      <td>ordinal</td>\n",
       "      <td>[-1]</td>\n",
       "    </tr>\n",
       "    <tr>\n",
       "      <th>7</th>\n",
       "      <td>FINANZ_ANLEGER</td>\n",
       "      <td>person</td>\n",
       "      <td>ordinal</td>\n",
       "      <td>[-1]</td>\n",
       "    </tr>\n",
       "    <tr>\n",
       "      <th>8</th>\n",
       "      <td>FINANZ_UNAUFFAELLIGER</td>\n",
       "      <td>person</td>\n",
       "      <td>ordinal</td>\n",
       "      <td>[-1]</td>\n",
       "    </tr>\n",
       "    <tr>\n",
       "      <th>9</th>\n",
       "      <td>FINANZ_HAUSBAUER</td>\n",
       "      <td>person</td>\n",
       "      <td>ordinal</td>\n",
       "      <td>[-1]</td>\n",
       "    </tr>\n",
       "    <tr>\n",
       "      <th>10</th>\n",
       "      <td>FINANZTYP</td>\n",
       "      <td>person</td>\n",
       "      <td>categorical</td>\n",
       "      <td>[-1]</td>\n",
       "    </tr>\n",
       "    <tr>\n",
       "      <th>11</th>\n",
       "      <td>GEBURTSJAHR</td>\n",
       "      <td>person</td>\n",
       "      <td>numeric</td>\n",
       "      <td>[0]</td>\n",
       "    </tr>\n",
       "    <tr>\n",
       "      <th>12</th>\n",
       "      <td>GFK_URLAUBERTYP</td>\n",
       "      <td>person</td>\n",
       "      <td>categorical</td>\n",
       "      <td>[]</td>\n",
       "    </tr>\n",
       "    <tr>\n",
       "      <th>13</th>\n",
       "      <td>GREEN_AVANTGARDE</td>\n",
       "      <td>person</td>\n",
       "      <td>categorical</td>\n",
       "      <td>[]</td>\n",
       "    </tr>\n",
       "    <tr>\n",
       "      <th>14</th>\n",
       "      <td>HEALTH_TYP</td>\n",
       "      <td>person</td>\n",
       "      <td>ordinal</td>\n",
       "      <td>[-1,0]</td>\n",
       "    </tr>\n",
       "    <tr>\n",
       "      <th>15</th>\n",
       "      <td>LP_LEBENSPHASE_FEIN</td>\n",
       "      <td>person</td>\n",
       "      <td>mixed</td>\n",
       "      <td>[0]</td>\n",
       "    </tr>\n",
       "    <tr>\n",
       "      <th>16</th>\n",
       "      <td>LP_LEBENSPHASE_GROB</td>\n",
       "      <td>person</td>\n",
       "      <td>mixed</td>\n",
       "      <td>[0]</td>\n",
       "    </tr>\n",
       "    <tr>\n",
       "      <th>17</th>\n",
       "      <td>LP_FAMILIE_FEIN</td>\n",
       "      <td>person</td>\n",
       "      <td>categorical</td>\n",
       "      <td>[0]</td>\n",
       "    </tr>\n",
       "    <tr>\n",
       "      <th>18</th>\n",
       "      <td>LP_FAMILIE_GROB</td>\n",
       "      <td>person</td>\n",
       "      <td>categorical</td>\n",
       "      <td>[0]</td>\n",
       "    </tr>\n",
       "    <tr>\n",
       "      <th>19</th>\n",
       "      <td>LP_STATUS_FEIN</td>\n",
       "      <td>person</td>\n",
       "      <td>categorical</td>\n",
       "      <td>[0]</td>\n",
       "    </tr>\n",
       "    <tr>\n",
       "      <th>20</th>\n",
       "      <td>LP_STATUS_GROB</td>\n",
       "      <td>person</td>\n",
       "      <td>categorical</td>\n",
       "      <td>[0]</td>\n",
       "    </tr>\n",
       "    <tr>\n",
       "      <th>21</th>\n",
       "      <td>NATIONALITAET_KZ</td>\n",
       "      <td>person</td>\n",
       "      <td>categorical</td>\n",
       "      <td>[-1,0]</td>\n",
       "    </tr>\n",
       "    <tr>\n",
       "      <th>22</th>\n",
       "      <td>PRAEGENDE_JUGENDJAHRE</td>\n",
       "      <td>person</td>\n",
       "      <td>mixed</td>\n",
       "      <td>[-1,0]</td>\n",
       "    </tr>\n",
       "    <tr>\n",
       "      <th>23</th>\n",
       "      <td>RETOURTYP_BK_S</td>\n",
       "      <td>person</td>\n",
       "      <td>ordinal</td>\n",
       "      <td>[0]</td>\n",
       "    </tr>\n",
       "    <tr>\n",
       "      <th>24</th>\n",
       "      <td>SEMIO_SOZ</td>\n",
       "      <td>person</td>\n",
       "      <td>ordinal</td>\n",
       "      <td>[-1,9]</td>\n",
       "    </tr>\n",
       "    <tr>\n",
       "      <th>25</th>\n",
       "      <td>SEMIO_FAM</td>\n",
       "      <td>person</td>\n",
       "      <td>ordinal</td>\n",
       "      <td>[-1,9]</td>\n",
       "    </tr>\n",
       "    <tr>\n",
       "      <th>26</th>\n",
       "      <td>SEMIO_REL</td>\n",
       "      <td>person</td>\n",
       "      <td>ordinal</td>\n",
       "      <td>[-1,9]</td>\n",
       "    </tr>\n",
       "    <tr>\n",
       "      <th>27</th>\n",
       "      <td>SEMIO_MAT</td>\n",
       "      <td>person</td>\n",
       "      <td>ordinal</td>\n",
       "      <td>[-1,9]</td>\n",
       "    </tr>\n",
       "    <tr>\n",
       "      <th>28</th>\n",
       "      <td>SEMIO_VERT</td>\n",
       "      <td>person</td>\n",
       "      <td>ordinal</td>\n",
       "      <td>[-1,9]</td>\n",
       "    </tr>\n",
       "    <tr>\n",
       "      <th>29</th>\n",
       "      <td>SEMIO_LUST</td>\n",
       "      <td>person</td>\n",
       "      <td>ordinal</td>\n",
       "      <td>[-1,9]</td>\n",
       "    </tr>\n",
       "    <tr>\n",
       "      <th>...</th>\n",
       "      <td>...</td>\n",
       "      <td>...</td>\n",
       "      <td>...</td>\n",
       "      <td>...</td>\n",
       "    </tr>\n",
       "    <tr>\n",
       "      <th>55</th>\n",
       "      <td>OST_WEST_KZ</td>\n",
       "      <td>building</td>\n",
       "      <td>categorical</td>\n",
       "      <td>[-1]</td>\n",
       "    </tr>\n",
       "    <tr>\n",
       "      <th>56</th>\n",
       "      <td>WOHNLAGE</td>\n",
       "      <td>building</td>\n",
       "      <td>mixed</td>\n",
       "      <td>[-1]</td>\n",
       "    </tr>\n",
       "    <tr>\n",
       "      <th>57</th>\n",
       "      <td>CAMEO_DEUG_2015</td>\n",
       "      <td>microcell_rr4</td>\n",
       "      <td>categorical</td>\n",
       "      <td>[-1,X]</td>\n",
       "    </tr>\n",
       "    <tr>\n",
       "      <th>58</th>\n",
       "      <td>CAMEO_DEU_2015</td>\n",
       "      <td>microcell_rr4</td>\n",
       "      <td>categorical</td>\n",
       "      <td>[XX]</td>\n",
       "    </tr>\n",
       "    <tr>\n",
       "      <th>59</th>\n",
       "      <td>CAMEO_INTL_2015</td>\n",
       "      <td>microcell_rr4</td>\n",
       "      <td>mixed</td>\n",
       "      <td>[-1,XX]</td>\n",
       "    </tr>\n",
       "    <tr>\n",
       "      <th>60</th>\n",
       "      <td>KBA05_ANTG1</td>\n",
       "      <td>microcell_rr3</td>\n",
       "      <td>ordinal</td>\n",
       "      <td>[-1]</td>\n",
       "    </tr>\n",
       "    <tr>\n",
       "      <th>61</th>\n",
       "      <td>KBA05_ANTG2</td>\n",
       "      <td>microcell_rr3</td>\n",
       "      <td>ordinal</td>\n",
       "      <td>[-1]</td>\n",
       "    </tr>\n",
       "    <tr>\n",
       "      <th>62</th>\n",
       "      <td>KBA05_ANTG3</td>\n",
       "      <td>microcell_rr3</td>\n",
       "      <td>ordinal</td>\n",
       "      <td>[-1]</td>\n",
       "    </tr>\n",
       "    <tr>\n",
       "      <th>63</th>\n",
       "      <td>KBA05_ANTG4</td>\n",
       "      <td>microcell_rr3</td>\n",
       "      <td>ordinal</td>\n",
       "      <td>[-1]</td>\n",
       "    </tr>\n",
       "    <tr>\n",
       "      <th>64</th>\n",
       "      <td>KBA05_BAUMAX</td>\n",
       "      <td>microcell_rr3</td>\n",
       "      <td>mixed</td>\n",
       "      <td>[-1,0]</td>\n",
       "    </tr>\n",
       "    <tr>\n",
       "      <th>65</th>\n",
       "      <td>KBA05_GBZ</td>\n",
       "      <td>microcell_rr3</td>\n",
       "      <td>ordinal</td>\n",
       "      <td>[-1,0]</td>\n",
       "    </tr>\n",
       "    <tr>\n",
       "      <th>66</th>\n",
       "      <td>BALLRAUM</td>\n",
       "      <td>postcode</td>\n",
       "      <td>ordinal</td>\n",
       "      <td>[-1]</td>\n",
       "    </tr>\n",
       "    <tr>\n",
       "      <th>67</th>\n",
       "      <td>EWDICHTE</td>\n",
       "      <td>postcode</td>\n",
       "      <td>ordinal</td>\n",
       "      <td>[-1]</td>\n",
       "    </tr>\n",
       "    <tr>\n",
       "      <th>68</th>\n",
       "      <td>INNENSTADT</td>\n",
       "      <td>postcode</td>\n",
       "      <td>ordinal</td>\n",
       "      <td>[-1]</td>\n",
       "    </tr>\n",
       "    <tr>\n",
       "      <th>69</th>\n",
       "      <td>GEBAEUDETYP_RASTER</td>\n",
       "      <td>region_rr1</td>\n",
       "      <td>ordinal</td>\n",
       "      <td>[]</td>\n",
       "    </tr>\n",
       "    <tr>\n",
       "      <th>70</th>\n",
       "      <td>KKK</td>\n",
       "      <td>region_rr1</td>\n",
       "      <td>ordinal</td>\n",
       "      <td>[-1,0]</td>\n",
       "    </tr>\n",
       "    <tr>\n",
       "      <th>71</th>\n",
       "      <td>MOBI_REGIO</td>\n",
       "      <td>region_rr1</td>\n",
       "      <td>ordinal</td>\n",
       "      <td>[]</td>\n",
       "    </tr>\n",
       "    <tr>\n",
       "      <th>72</th>\n",
       "      <td>ONLINE_AFFINITAET</td>\n",
       "      <td>region_rr1</td>\n",
       "      <td>ordinal</td>\n",
       "      <td>[]</td>\n",
       "    </tr>\n",
       "    <tr>\n",
       "      <th>73</th>\n",
       "      <td>REGIOTYP</td>\n",
       "      <td>region_rr1</td>\n",
       "      <td>ordinal</td>\n",
       "      <td>[-1,0]</td>\n",
       "    </tr>\n",
       "    <tr>\n",
       "      <th>74</th>\n",
       "      <td>KBA13_ANZAHL_PKW</td>\n",
       "      <td>macrocell_plz8</td>\n",
       "      <td>numeric</td>\n",
       "      <td>[]</td>\n",
       "    </tr>\n",
       "    <tr>\n",
       "      <th>75</th>\n",
       "      <td>PLZ8_ANTG1</td>\n",
       "      <td>macrocell_plz8</td>\n",
       "      <td>ordinal</td>\n",
       "      <td>[-1]</td>\n",
       "    </tr>\n",
       "    <tr>\n",
       "      <th>76</th>\n",
       "      <td>PLZ8_ANTG2</td>\n",
       "      <td>macrocell_plz8</td>\n",
       "      <td>ordinal</td>\n",
       "      <td>[-1]</td>\n",
       "    </tr>\n",
       "    <tr>\n",
       "      <th>77</th>\n",
       "      <td>PLZ8_ANTG3</td>\n",
       "      <td>macrocell_plz8</td>\n",
       "      <td>ordinal</td>\n",
       "      <td>[-1]</td>\n",
       "    </tr>\n",
       "    <tr>\n",
       "      <th>78</th>\n",
       "      <td>PLZ8_ANTG4</td>\n",
       "      <td>macrocell_plz8</td>\n",
       "      <td>ordinal</td>\n",
       "      <td>[-1]</td>\n",
       "    </tr>\n",
       "    <tr>\n",
       "      <th>79</th>\n",
       "      <td>PLZ8_BAUMAX</td>\n",
       "      <td>macrocell_plz8</td>\n",
       "      <td>mixed</td>\n",
       "      <td>[-1,0]</td>\n",
       "    </tr>\n",
       "    <tr>\n",
       "      <th>80</th>\n",
       "      <td>PLZ8_HHZ</td>\n",
       "      <td>macrocell_plz8</td>\n",
       "      <td>ordinal</td>\n",
       "      <td>[-1]</td>\n",
       "    </tr>\n",
       "    <tr>\n",
       "      <th>81</th>\n",
       "      <td>PLZ8_GBZ</td>\n",
       "      <td>macrocell_plz8</td>\n",
       "      <td>ordinal</td>\n",
       "      <td>[-1]</td>\n",
       "    </tr>\n",
       "    <tr>\n",
       "      <th>82</th>\n",
       "      <td>ARBEIT</td>\n",
       "      <td>community</td>\n",
       "      <td>ordinal</td>\n",
       "      <td>[-1,9]</td>\n",
       "    </tr>\n",
       "    <tr>\n",
       "      <th>83</th>\n",
       "      <td>ORTSGR_KLS9</td>\n",
       "      <td>community</td>\n",
       "      <td>ordinal</td>\n",
       "      <td>[-1,0]</td>\n",
       "    </tr>\n",
       "    <tr>\n",
       "      <th>84</th>\n",
       "      <td>RELAT_AB</td>\n",
       "      <td>community</td>\n",
       "      <td>ordinal</td>\n",
       "      <td>[-1,9]</td>\n",
       "    </tr>\n",
       "  </tbody>\n",
       "</table>\n",
       "<p>85 rows × 4 columns</p>\n",
       "</div>"
      ],
      "text/plain": [
       "                attribute information_level         type missing_or_unknown\n",
       "0                AGER_TYP            person  categorical             [-1,0]\n",
       "1    ALTERSKATEGORIE_GROB            person      ordinal           [-1,0,9]\n",
       "2               ANREDE_KZ            person  categorical             [-1,0]\n",
       "3           CJT_GESAMTTYP            person  categorical                [0]\n",
       "4       FINANZ_MINIMALIST            person      ordinal               [-1]\n",
       "5           FINANZ_SPARER            person      ordinal               [-1]\n",
       "6        FINANZ_VORSORGER            person      ordinal               [-1]\n",
       "7          FINANZ_ANLEGER            person      ordinal               [-1]\n",
       "8   FINANZ_UNAUFFAELLIGER            person      ordinal               [-1]\n",
       "9        FINANZ_HAUSBAUER            person      ordinal               [-1]\n",
       "10              FINANZTYP            person  categorical               [-1]\n",
       "11            GEBURTSJAHR            person      numeric                [0]\n",
       "12        GFK_URLAUBERTYP            person  categorical                 []\n",
       "13       GREEN_AVANTGARDE            person  categorical                 []\n",
       "14             HEALTH_TYP            person      ordinal             [-1,0]\n",
       "15    LP_LEBENSPHASE_FEIN            person        mixed                [0]\n",
       "16    LP_LEBENSPHASE_GROB            person        mixed                [0]\n",
       "17        LP_FAMILIE_FEIN            person  categorical                [0]\n",
       "18        LP_FAMILIE_GROB            person  categorical                [0]\n",
       "19         LP_STATUS_FEIN            person  categorical                [0]\n",
       "20         LP_STATUS_GROB            person  categorical                [0]\n",
       "21       NATIONALITAET_KZ            person  categorical             [-1,0]\n",
       "22  PRAEGENDE_JUGENDJAHRE            person        mixed             [-1,0]\n",
       "23         RETOURTYP_BK_S            person      ordinal                [0]\n",
       "24              SEMIO_SOZ            person      ordinal             [-1,9]\n",
       "25              SEMIO_FAM            person      ordinal             [-1,9]\n",
       "26              SEMIO_REL            person      ordinal             [-1,9]\n",
       "27              SEMIO_MAT            person      ordinal             [-1,9]\n",
       "28             SEMIO_VERT            person      ordinal             [-1,9]\n",
       "29             SEMIO_LUST            person      ordinal             [-1,9]\n",
       "..                    ...               ...          ...                ...\n",
       "55            OST_WEST_KZ          building  categorical               [-1]\n",
       "56               WOHNLAGE          building        mixed               [-1]\n",
       "57        CAMEO_DEUG_2015     microcell_rr4  categorical             [-1,X]\n",
       "58         CAMEO_DEU_2015     microcell_rr4  categorical               [XX]\n",
       "59        CAMEO_INTL_2015     microcell_rr4        mixed            [-1,XX]\n",
       "60            KBA05_ANTG1     microcell_rr3      ordinal               [-1]\n",
       "61            KBA05_ANTG2     microcell_rr3      ordinal               [-1]\n",
       "62            KBA05_ANTG3     microcell_rr3      ordinal               [-1]\n",
       "63            KBA05_ANTG4     microcell_rr3      ordinal               [-1]\n",
       "64           KBA05_BAUMAX     microcell_rr3        mixed             [-1,0]\n",
       "65              KBA05_GBZ     microcell_rr3      ordinal             [-1,0]\n",
       "66               BALLRAUM          postcode      ordinal               [-1]\n",
       "67               EWDICHTE          postcode      ordinal               [-1]\n",
       "68             INNENSTADT          postcode      ordinal               [-1]\n",
       "69     GEBAEUDETYP_RASTER        region_rr1      ordinal                 []\n",
       "70                    KKK        region_rr1      ordinal             [-1,0]\n",
       "71             MOBI_REGIO        region_rr1      ordinal                 []\n",
       "72      ONLINE_AFFINITAET        region_rr1      ordinal                 []\n",
       "73               REGIOTYP        region_rr1      ordinal             [-1,0]\n",
       "74       KBA13_ANZAHL_PKW    macrocell_plz8      numeric                 []\n",
       "75             PLZ8_ANTG1    macrocell_plz8      ordinal               [-1]\n",
       "76             PLZ8_ANTG2    macrocell_plz8      ordinal               [-1]\n",
       "77             PLZ8_ANTG3    macrocell_plz8      ordinal               [-1]\n",
       "78             PLZ8_ANTG4    macrocell_plz8      ordinal               [-1]\n",
       "79            PLZ8_BAUMAX    macrocell_plz8        mixed             [-1,0]\n",
       "80               PLZ8_HHZ    macrocell_plz8      ordinal               [-1]\n",
       "81               PLZ8_GBZ    macrocell_plz8      ordinal               [-1]\n",
       "82                 ARBEIT         community      ordinal             [-1,9]\n",
       "83            ORTSGR_KLS9         community      ordinal             [-1,0]\n",
       "84               RELAT_AB         community      ordinal             [-1,9]\n",
       "\n",
       "[85 rows x 4 columns]"
      ]
     },
     "execution_count": 59,
     "metadata": {},
     "output_type": "execute_result"
    }
   ],
   "source": [
    "# View Data \n",
    "feat_info"
   ]
  },
  {
   "cell_type": "code",
   "execution_count": 6,
   "metadata": {},
   "outputs": [
    {
     "data": {
      "text/html": [
       "<div>\n",
       "<style scoped>\n",
       "    .dataframe tbody tr th:only-of-type {\n",
       "        vertical-align: middle;\n",
       "    }\n",
       "\n",
       "    .dataframe tbody tr th {\n",
       "        vertical-align: top;\n",
       "    }\n",
       "\n",
       "    .dataframe thead th {\n",
       "        text-align: right;\n",
       "    }\n",
       "</style>\n",
       "<table border=\"1\" class=\"dataframe\">\n",
       "  <thead>\n",
       "    <tr style=\"text-align: right;\">\n",
       "      <th></th>\n",
       "      <th>AGER_TYP</th>\n",
       "      <th>ALTERSKATEGORIE_GROB</th>\n",
       "      <th>ANREDE_KZ</th>\n",
       "      <th>CJT_GESAMTTYP</th>\n",
       "      <th>FINANZ_MINIMALIST</th>\n",
       "      <th>FINANZ_SPARER</th>\n",
       "      <th>FINANZ_VORSORGER</th>\n",
       "      <th>FINANZ_ANLEGER</th>\n",
       "      <th>FINANZ_UNAUFFAELLIGER</th>\n",
       "      <th>FINANZ_HAUSBAUER</th>\n",
       "      <th>...</th>\n",
       "      <th>PLZ8_ANTG1</th>\n",
       "      <th>PLZ8_ANTG2</th>\n",
       "      <th>PLZ8_ANTG3</th>\n",
       "      <th>PLZ8_ANTG4</th>\n",
       "      <th>PLZ8_BAUMAX</th>\n",
       "      <th>PLZ8_HHZ</th>\n",
       "      <th>PLZ8_GBZ</th>\n",
       "      <th>ARBEIT</th>\n",
       "      <th>ORTSGR_KLS9</th>\n",
       "      <th>RELAT_AB</th>\n",
       "    </tr>\n",
       "  </thead>\n",
       "  <tbody>\n",
       "    <tr>\n",
       "      <th>count</th>\n",
       "      <td>891221.000000</td>\n",
       "      <td>891221.000000</td>\n",
       "      <td>891221.000000</td>\n",
       "      <td>886367.000000</td>\n",
       "      <td>891221.000000</td>\n",
       "      <td>891221.000000</td>\n",
       "      <td>891221.000000</td>\n",
       "      <td>891221.000000</td>\n",
       "      <td>891221.000000</td>\n",
       "      <td>891221.000000</td>\n",
       "      <td>...</td>\n",
       "      <td>774706.000000</td>\n",
       "      <td>774706.000000</td>\n",
       "      <td>774706.000000</td>\n",
       "      <td>774706.000000</td>\n",
       "      <td>774706.000000</td>\n",
       "      <td>774706.000000</td>\n",
       "      <td>774706.000000</td>\n",
       "      <td>794005.000000</td>\n",
       "      <td>794005.000000</td>\n",
       "      <td>794005.00000</td>\n",
       "    </tr>\n",
       "    <tr>\n",
       "      <th>mean</th>\n",
       "      <td>-0.358435</td>\n",
       "      <td>2.777398</td>\n",
       "      <td>1.522098</td>\n",
       "      <td>3.632838</td>\n",
       "      <td>3.074528</td>\n",
       "      <td>2.821039</td>\n",
       "      <td>3.401106</td>\n",
       "      <td>3.033328</td>\n",
       "      <td>2.874167</td>\n",
       "      <td>3.075121</td>\n",
       "      <td>...</td>\n",
       "      <td>2.253330</td>\n",
       "      <td>2.801858</td>\n",
       "      <td>1.595426</td>\n",
       "      <td>0.699166</td>\n",
       "      <td>1.943913</td>\n",
       "      <td>3.612821</td>\n",
       "      <td>3.381087</td>\n",
       "      <td>3.167854</td>\n",
       "      <td>5.293002</td>\n",
       "      <td>3.07222</td>\n",
       "    </tr>\n",
       "    <tr>\n",
       "      <th>std</th>\n",
       "      <td>1.198724</td>\n",
       "      <td>1.068775</td>\n",
       "      <td>0.499512</td>\n",
       "      <td>1.595021</td>\n",
       "      <td>1.321055</td>\n",
       "      <td>1.464749</td>\n",
       "      <td>1.322134</td>\n",
       "      <td>1.529603</td>\n",
       "      <td>1.486731</td>\n",
       "      <td>1.353248</td>\n",
       "      <td>...</td>\n",
       "      <td>0.972008</td>\n",
       "      <td>0.920309</td>\n",
       "      <td>0.986736</td>\n",
       "      <td>0.727137</td>\n",
       "      <td>1.459654</td>\n",
       "      <td>0.973967</td>\n",
       "      <td>1.111598</td>\n",
       "      <td>1.002376</td>\n",
       "      <td>2.303739</td>\n",
       "      <td>1.36298</td>\n",
       "    </tr>\n",
       "    <tr>\n",
       "      <th>min</th>\n",
       "      <td>-1.000000</td>\n",
       "      <td>1.000000</td>\n",
       "      <td>1.000000</td>\n",
       "      <td>1.000000</td>\n",
       "      <td>1.000000</td>\n",
       "      <td>1.000000</td>\n",
       "      <td>1.000000</td>\n",
       "      <td>1.000000</td>\n",
       "      <td>1.000000</td>\n",
       "      <td>1.000000</td>\n",
       "      <td>...</td>\n",
       "      <td>0.000000</td>\n",
       "      <td>0.000000</td>\n",
       "      <td>0.000000</td>\n",
       "      <td>0.000000</td>\n",
       "      <td>1.000000</td>\n",
       "      <td>1.000000</td>\n",
       "      <td>1.000000</td>\n",
       "      <td>1.000000</td>\n",
       "      <td>0.000000</td>\n",
       "      <td>1.00000</td>\n",
       "    </tr>\n",
       "    <tr>\n",
       "      <th>25%</th>\n",
       "      <td>-1.000000</td>\n",
       "      <td>2.000000</td>\n",
       "      <td>1.000000</td>\n",
       "      <td>2.000000</td>\n",
       "      <td>2.000000</td>\n",
       "      <td>1.000000</td>\n",
       "      <td>3.000000</td>\n",
       "      <td>2.000000</td>\n",
       "      <td>2.000000</td>\n",
       "      <td>2.000000</td>\n",
       "      <td>...</td>\n",
       "      <td>1.000000</td>\n",
       "      <td>2.000000</td>\n",
       "      <td>1.000000</td>\n",
       "      <td>0.000000</td>\n",
       "      <td>1.000000</td>\n",
       "      <td>3.000000</td>\n",
       "      <td>3.000000</td>\n",
       "      <td>3.000000</td>\n",
       "      <td>4.000000</td>\n",
       "      <td>2.00000</td>\n",
       "    </tr>\n",
       "    <tr>\n",
       "      <th>50%</th>\n",
       "      <td>-1.000000</td>\n",
       "      <td>3.000000</td>\n",
       "      <td>2.000000</td>\n",
       "      <td>4.000000</td>\n",
       "      <td>3.000000</td>\n",
       "      <td>3.000000</td>\n",
       "      <td>3.000000</td>\n",
       "      <td>3.000000</td>\n",
       "      <td>3.000000</td>\n",
       "      <td>3.000000</td>\n",
       "      <td>...</td>\n",
       "      <td>2.000000</td>\n",
       "      <td>3.000000</td>\n",
       "      <td>2.000000</td>\n",
       "      <td>1.000000</td>\n",
       "      <td>1.000000</td>\n",
       "      <td>4.000000</td>\n",
       "      <td>3.000000</td>\n",
       "      <td>3.000000</td>\n",
       "      <td>5.000000</td>\n",
       "      <td>3.00000</td>\n",
       "    </tr>\n",
       "    <tr>\n",
       "      <th>75%</th>\n",
       "      <td>-1.000000</td>\n",
       "      <td>4.000000</td>\n",
       "      <td>2.000000</td>\n",
       "      <td>5.000000</td>\n",
       "      <td>4.000000</td>\n",
       "      <td>4.000000</td>\n",
       "      <td>5.000000</td>\n",
       "      <td>5.000000</td>\n",
       "      <td>4.000000</td>\n",
       "      <td>4.000000</td>\n",
       "      <td>...</td>\n",
       "      <td>3.000000</td>\n",
       "      <td>3.000000</td>\n",
       "      <td>2.000000</td>\n",
       "      <td>1.000000</td>\n",
       "      <td>3.000000</td>\n",
       "      <td>4.000000</td>\n",
       "      <td>4.000000</td>\n",
       "      <td>4.000000</td>\n",
       "      <td>7.000000</td>\n",
       "      <td>4.00000</td>\n",
       "    </tr>\n",
       "    <tr>\n",
       "      <th>max</th>\n",
       "      <td>3.000000</td>\n",
       "      <td>9.000000</td>\n",
       "      <td>2.000000</td>\n",
       "      <td>6.000000</td>\n",
       "      <td>5.000000</td>\n",
       "      <td>5.000000</td>\n",
       "      <td>5.000000</td>\n",
       "      <td>5.000000</td>\n",
       "      <td>5.000000</td>\n",
       "      <td>5.000000</td>\n",
       "      <td>...</td>\n",
       "      <td>4.000000</td>\n",
       "      <td>4.000000</td>\n",
       "      <td>3.000000</td>\n",
       "      <td>2.000000</td>\n",
       "      <td>5.000000</td>\n",
       "      <td>5.000000</td>\n",
       "      <td>5.000000</td>\n",
       "      <td>9.000000</td>\n",
       "      <td>9.000000</td>\n",
       "      <td>9.00000</td>\n",
       "    </tr>\n",
       "  </tbody>\n",
       "</table>\n",
       "<p>8 rows × 81 columns</p>\n",
       "</div>"
      ],
      "text/plain": [
       "            AGER_TYP  ALTERSKATEGORIE_GROB      ANREDE_KZ  CJT_GESAMTTYP  \\\n",
       "count  891221.000000         891221.000000  891221.000000  886367.000000   \n",
       "mean       -0.358435              2.777398       1.522098       3.632838   \n",
       "std         1.198724              1.068775       0.499512       1.595021   \n",
       "min        -1.000000              1.000000       1.000000       1.000000   \n",
       "25%        -1.000000              2.000000       1.000000       2.000000   \n",
       "50%        -1.000000              3.000000       2.000000       4.000000   \n",
       "75%        -1.000000              4.000000       2.000000       5.000000   \n",
       "max         3.000000              9.000000       2.000000       6.000000   \n",
       "\n",
       "       FINANZ_MINIMALIST  FINANZ_SPARER  FINANZ_VORSORGER  FINANZ_ANLEGER  \\\n",
       "count      891221.000000  891221.000000     891221.000000   891221.000000   \n",
       "mean            3.074528       2.821039          3.401106        3.033328   \n",
       "std             1.321055       1.464749          1.322134        1.529603   \n",
       "min             1.000000       1.000000          1.000000        1.000000   \n",
       "25%             2.000000       1.000000          3.000000        2.000000   \n",
       "50%             3.000000       3.000000          3.000000        3.000000   \n",
       "75%             4.000000       4.000000          5.000000        5.000000   \n",
       "max             5.000000       5.000000          5.000000        5.000000   \n",
       "\n",
       "       FINANZ_UNAUFFAELLIGER  FINANZ_HAUSBAUER      ...          PLZ8_ANTG1  \\\n",
       "count          891221.000000     891221.000000      ...       774706.000000   \n",
       "mean                2.874167          3.075121      ...            2.253330   \n",
       "std                 1.486731          1.353248      ...            0.972008   \n",
       "min                 1.000000          1.000000      ...            0.000000   \n",
       "25%                 2.000000          2.000000      ...            1.000000   \n",
       "50%                 3.000000          3.000000      ...            2.000000   \n",
       "75%                 4.000000          4.000000      ...            3.000000   \n",
       "max                 5.000000          5.000000      ...            4.000000   \n",
       "\n",
       "          PLZ8_ANTG2     PLZ8_ANTG3     PLZ8_ANTG4    PLZ8_BAUMAX  \\\n",
       "count  774706.000000  774706.000000  774706.000000  774706.000000   \n",
       "mean        2.801858       1.595426       0.699166       1.943913   \n",
       "std         0.920309       0.986736       0.727137       1.459654   \n",
       "min         0.000000       0.000000       0.000000       1.000000   \n",
       "25%         2.000000       1.000000       0.000000       1.000000   \n",
       "50%         3.000000       2.000000       1.000000       1.000000   \n",
       "75%         3.000000       2.000000       1.000000       3.000000   \n",
       "max         4.000000       3.000000       2.000000       5.000000   \n",
       "\n",
       "            PLZ8_HHZ       PLZ8_GBZ         ARBEIT    ORTSGR_KLS9  \\\n",
       "count  774706.000000  774706.000000  794005.000000  794005.000000   \n",
       "mean        3.612821       3.381087       3.167854       5.293002   \n",
       "std         0.973967       1.111598       1.002376       2.303739   \n",
       "min         1.000000       1.000000       1.000000       0.000000   \n",
       "25%         3.000000       3.000000       3.000000       4.000000   \n",
       "50%         4.000000       3.000000       3.000000       5.000000   \n",
       "75%         4.000000       4.000000       4.000000       7.000000   \n",
       "max         5.000000       5.000000       9.000000       9.000000   \n",
       "\n",
       "           RELAT_AB  \n",
       "count  794005.00000  \n",
       "mean        3.07222  \n",
       "std         1.36298  \n",
       "min         1.00000  \n",
       "25%         2.00000  \n",
       "50%         3.00000  \n",
       "75%         4.00000  \n",
       "max         9.00000  \n",
       "\n",
       "[8 rows x 81 columns]"
      ]
     },
     "execution_count": 6,
     "metadata": {},
     "output_type": "execute_result"
    }
   ],
   "source": [
    "azdias.describe()"
   ]
  },
  {
   "cell_type": "code",
   "execution_count": 7,
   "metadata": {},
   "outputs": [
    {
     "data": {
      "text/html": [
       "<div>\n",
       "<style scoped>\n",
       "    .dataframe tbody tr th:only-of-type {\n",
       "        vertical-align: middle;\n",
       "    }\n",
       "\n",
       "    .dataframe tbody tr th {\n",
       "        vertical-align: top;\n",
       "    }\n",
       "\n",
       "    .dataframe thead th {\n",
       "        text-align: right;\n",
       "    }\n",
       "</style>\n",
       "<table border=\"1\" class=\"dataframe\">\n",
       "  <thead>\n",
       "    <tr style=\"text-align: right;\">\n",
       "      <th></th>\n",
       "      <th>attribute</th>\n",
       "      <th>information_level</th>\n",
       "      <th>type</th>\n",
       "      <th>missing_or_unknown</th>\n",
       "    </tr>\n",
       "  </thead>\n",
       "  <tbody>\n",
       "    <tr>\n",
       "      <th>count</th>\n",
       "      <td>85</td>\n",
       "      <td>85</td>\n",
       "      <td>85</td>\n",
       "      <td>85</td>\n",
       "    </tr>\n",
       "    <tr>\n",
       "      <th>unique</th>\n",
       "      <td>85</td>\n",
       "      <td>9</td>\n",
       "      <td>5</td>\n",
       "      <td>9</td>\n",
       "    </tr>\n",
       "    <tr>\n",
       "      <th>top</th>\n",
       "      <td>ARBEIT</td>\n",
       "      <td>person</td>\n",
       "      <td>ordinal</td>\n",
       "      <td>[-1]</td>\n",
       "    </tr>\n",
       "    <tr>\n",
       "      <th>freq</th>\n",
       "      <td>1</td>\n",
       "      <td>43</td>\n",
       "      <td>49</td>\n",
       "      <td>26</td>\n",
       "    </tr>\n",
       "  </tbody>\n",
       "</table>\n",
       "</div>"
      ],
      "text/plain": [
       "       attribute information_level     type missing_or_unknown\n",
       "count         85                85       85                 85\n",
       "unique        85                 9        5                  9\n",
       "top       ARBEIT            person  ordinal               [-1]\n",
       "freq           1                43       49                 26"
      ]
     },
     "execution_count": 7,
     "metadata": {},
     "output_type": "execute_result"
    }
   ],
   "source": [
    "feat_info.describe()"
   ]
  },
  {
   "cell_type": "markdown",
   "metadata": {},
   "source": [
    "> **Tip**: Add additional cells to keep everything in reasonably-sized chunks! Keyboard shortcut `esc --> a` (press escape to enter command mode, then press the 'A' key) adds a new cell before the active cell, and `esc --> b` adds a new cell after the active cell. If you need to convert an active cell to a markdown cell, use `esc --> m` and to convert to a code cell, use `esc --> y`. \n",
    "\n",
    "## Step 1: Preprocessing\n",
    "\n",
    "### Step 1.1: Assess Missing Data\n",
    "\n",
    "The feature summary file contains a summary of properties for each demographics data column. You will use this file to help you make cleaning decisions during this stage of the project. First of all, you should assess the demographics data in terms of missing data. Pay attention to the following points as you perform your analysis, and take notes on what you observe. Make sure that you fill in the **Discussion** cell with your findings and decisions at the end of each step that has one!\n",
    "\n",
    "#### Step 1.1.1: Convert Missing Value Codes to NaNs\n",
    "The fourth column of the feature attributes summary (loaded in above as `feat_info`) documents the codes from the data dictionary that indicate missing or unknown data. While the file encodes this as a list (e.g. `[-1,0]`), this will get read in as a string object. You'll need to do a little bit of parsing to make use of it to identify and clean the data. Convert data that matches a 'missing' or 'unknown' value code into a numpy NaN value. You might want to see how much data takes on a 'missing' or 'unknown' code, and how much data is naturally missing, as a point of interest.\n",
    "\n",
    "**As one more reminder, you are encouraged to add additional cells to break up your analysis into manageable chunks.**"
   ]
  },
  {
   "cell_type": "code",
   "execution_count": 8,
   "metadata": {},
   "outputs": [
    {
     "data": {
      "text/plain": [
       "4896838"
      ]
     },
     "execution_count": 8,
     "metadata": {},
     "output_type": "execute_result"
    }
   ],
   "source": [
    "# Identify missing or unknown data values and convert them to NaNs.\n",
    "#feat_info[feat_info.isnull()]\n",
    "#feat_info.isnull().count(axis=0)\n",
    "azdias.isnull().sum().sum()"
   ]
  },
  {
   "cell_type": "code",
   "execution_count": 177,
   "metadata": {},
   "outputs": [],
   "source": [
    "col=azdias.columns"
   ]
  },
  {
   "cell_type": "code",
   "execution_count": 11,
   "metadata": {},
   "outputs": [],
   "source": [
    " # Missing or unknown indicators defined in the data dictionary are replace by Nan or null in this step\n",
    "azdias_1=azdias\n",
    "for col_name in col:\n",
    "    azdias_1[col_name] = azdias_1[col_name].map(lambda x: np.nan if str(x) in feat_info.loc[col_name].missing_or_unknown else x)"
   ]
  },
  {
   "cell_type": "code",
   "execution_count": 12,
   "metadata": {},
   "outputs": [],
   "source": [
    "# save the data to save time from the immediate above step from rerun\n",
    "azdias_1.to_csv(\"azdias_1.csv\")"
   ]
  },
  {
   "cell_type": "code",
   "execution_count": 175,
   "metadata": {},
   "outputs": [],
   "source": [
    "azdias=pd.read_csv(\"azdias_1.csv\")\n",
    "azdias.drop(columns=['Unnamed: 0'],inplace=True)"
   ]
  },
  {
   "cell_type": "code",
   "execution_count": 176,
   "metadata": {},
   "outputs": [
    {
     "data": {
      "text/html": [
       "<div>\n",
       "<style scoped>\n",
       "    .dataframe tbody tr th:only-of-type {\n",
       "        vertical-align: middle;\n",
       "    }\n",
       "\n",
       "    .dataframe tbody tr th {\n",
       "        vertical-align: top;\n",
       "    }\n",
       "\n",
       "    .dataframe thead th {\n",
       "        text-align: right;\n",
       "    }\n",
       "</style>\n",
       "<table border=\"1\" class=\"dataframe\">\n",
       "  <thead>\n",
       "    <tr style=\"text-align: right;\">\n",
       "      <th></th>\n",
       "      <th>AGER_TYP</th>\n",
       "      <th>ALTERSKATEGORIE_GROB</th>\n",
       "      <th>ANREDE_KZ</th>\n",
       "      <th>CJT_GESAMTTYP</th>\n",
       "      <th>FINANZ_MINIMALIST</th>\n",
       "      <th>FINANZ_SPARER</th>\n",
       "      <th>FINANZ_VORSORGER</th>\n",
       "      <th>FINANZ_ANLEGER</th>\n",
       "      <th>FINANZ_UNAUFFAELLIGER</th>\n",
       "      <th>FINANZ_HAUSBAUER</th>\n",
       "      <th>...</th>\n",
       "      <th>PLZ8_ANTG1</th>\n",
       "      <th>PLZ8_ANTG2</th>\n",
       "      <th>PLZ8_ANTG3</th>\n",
       "      <th>PLZ8_ANTG4</th>\n",
       "      <th>PLZ8_BAUMAX</th>\n",
       "      <th>PLZ8_HHZ</th>\n",
       "      <th>PLZ8_GBZ</th>\n",
       "      <th>ARBEIT</th>\n",
       "      <th>ORTSGR_KLS9</th>\n",
       "      <th>RELAT_AB</th>\n",
       "    </tr>\n",
       "  </thead>\n",
       "  <tbody>\n",
       "    <tr>\n",
       "      <th>count</th>\n",
       "      <td>125576.000000</td>\n",
       "      <td>745453.000000</td>\n",
       "      <td>465305.0</td>\n",
       "      <td>886367.000000</td>\n",
       "      <td>751634.000000</td>\n",
       "      <td>641008.000000</td>\n",
       "      <td>786852.000000</td>\n",
       "      <td>680409.000000</td>\n",
       "      <td>670624.000000</td>\n",
       "      <td>748117.000000</td>\n",
       "      <td>...</td>\n",
       "      <td>774706.000000</td>\n",
       "      <td>774706.000000</td>\n",
       "      <td>774706.000000</td>\n",
       "      <td>774706.000000</td>\n",
       "      <td>774706.000000</td>\n",
       "      <td>774706.000000</td>\n",
       "      <td>774706.000000</td>\n",
       "      <td>794005.000000</td>\n",
       "      <td>794005.000000</td>\n",
       "      <td>794005.00000</td>\n",
       "    </tr>\n",
       "    <tr>\n",
       "      <th>mean</th>\n",
       "      <td>2.215837</td>\n",
       "      <td>3.094037</td>\n",
       "      <td>2.0</td>\n",
       "      <td>3.632838</td>\n",
       "      <td>3.459792</td>\n",
       "      <td>3.531869</td>\n",
       "      <td>3.719591</td>\n",
       "      <td>3.663317</td>\n",
       "      <td>3.490661</td>\n",
       "      <td>3.472061</td>\n",
       "      <td>...</td>\n",
       "      <td>2.253330</td>\n",
       "      <td>2.801858</td>\n",
       "      <td>1.595426</td>\n",
       "      <td>0.699166</td>\n",
       "      <td>1.943913</td>\n",
       "      <td>3.612821</td>\n",
       "      <td>3.381087</td>\n",
       "      <td>3.167854</td>\n",
       "      <td>5.293002</td>\n",
       "      <td>3.07222</td>\n",
       "    </tr>\n",
       "    <tr>\n",
       "      <th>std</th>\n",
       "      <td>0.411404</td>\n",
       "      <td>0.714281</td>\n",
       "      <td>0.0</td>\n",
       "      <td>1.595021</td>\n",
       "      <td>1.059065</td>\n",
       "      <td>1.087767</td>\n",
       "      <td>1.055343</td>\n",
       "      <td>1.177595</td>\n",
       "      <td>1.184051</td>\n",
       "      <td>1.095589</td>\n",
       "      <td>...</td>\n",
       "      <td>0.972008</td>\n",
       "      <td>0.920309</td>\n",
       "      <td>0.986736</td>\n",
       "      <td>0.727137</td>\n",
       "      <td>1.459654</td>\n",
       "      <td>0.973967</td>\n",
       "      <td>1.111598</td>\n",
       "      <td>1.002376</td>\n",
       "      <td>2.303739</td>\n",
       "      <td>1.36298</td>\n",
       "    </tr>\n",
       "    <tr>\n",
       "      <th>min</th>\n",
       "      <td>2.000000</td>\n",
       "      <td>2.000000</td>\n",
       "      <td>2.0</td>\n",
       "      <td>1.000000</td>\n",
       "      <td>2.000000</td>\n",
       "      <td>2.000000</td>\n",
       "      <td>2.000000</td>\n",
       "      <td>2.000000</td>\n",
       "      <td>2.000000</td>\n",
       "      <td>2.000000</td>\n",
       "      <td>...</td>\n",
       "      <td>0.000000</td>\n",
       "      <td>0.000000</td>\n",
       "      <td>0.000000</td>\n",
       "      <td>0.000000</td>\n",
       "      <td>1.000000</td>\n",
       "      <td>1.000000</td>\n",
       "      <td>1.000000</td>\n",
       "      <td>1.000000</td>\n",
       "      <td>0.000000</td>\n",
       "      <td>1.00000</td>\n",
       "    </tr>\n",
       "    <tr>\n",
       "      <th>25%</th>\n",
       "      <td>2.000000</td>\n",
       "      <td>3.000000</td>\n",
       "      <td>2.0</td>\n",
       "      <td>2.000000</td>\n",
       "      <td>3.000000</td>\n",
       "      <td>3.000000</td>\n",
       "      <td>3.000000</td>\n",
       "      <td>3.000000</td>\n",
       "      <td>2.000000</td>\n",
       "      <td>3.000000</td>\n",
       "      <td>...</td>\n",
       "      <td>1.000000</td>\n",
       "      <td>2.000000</td>\n",
       "      <td>1.000000</td>\n",
       "      <td>0.000000</td>\n",
       "      <td>1.000000</td>\n",
       "      <td>3.000000</td>\n",
       "      <td>3.000000</td>\n",
       "      <td>3.000000</td>\n",
       "      <td>4.000000</td>\n",
       "      <td>2.00000</td>\n",
       "    </tr>\n",
       "    <tr>\n",
       "      <th>50%</th>\n",
       "      <td>2.000000</td>\n",
       "      <td>3.000000</td>\n",
       "      <td>2.0</td>\n",
       "      <td>4.000000</td>\n",
       "      <td>3.000000</td>\n",
       "      <td>4.000000</td>\n",
       "      <td>4.000000</td>\n",
       "      <td>4.000000</td>\n",
       "      <td>3.000000</td>\n",
       "      <td>3.000000</td>\n",
       "      <td>...</td>\n",
       "      <td>2.000000</td>\n",
       "      <td>3.000000</td>\n",
       "      <td>2.000000</td>\n",
       "      <td>1.000000</td>\n",
       "      <td>1.000000</td>\n",
       "      <td>4.000000</td>\n",
       "      <td>3.000000</td>\n",
       "      <td>3.000000</td>\n",
       "      <td>5.000000</td>\n",
       "      <td>3.00000</td>\n",
       "    </tr>\n",
       "    <tr>\n",
       "      <th>75%</th>\n",
       "      <td>2.000000</td>\n",
       "      <td>4.000000</td>\n",
       "      <td>2.0</td>\n",
       "      <td>5.000000</td>\n",
       "      <td>4.000000</td>\n",
       "      <td>4.000000</td>\n",
       "      <td>5.000000</td>\n",
       "      <td>5.000000</td>\n",
       "      <td>5.000000</td>\n",
       "      <td>4.000000</td>\n",
       "      <td>...</td>\n",
       "      <td>3.000000</td>\n",
       "      <td>3.000000</td>\n",
       "      <td>2.000000</td>\n",
       "      <td>1.000000</td>\n",
       "      <td>3.000000</td>\n",
       "      <td>4.000000</td>\n",
       "      <td>4.000000</td>\n",
       "      <td>4.000000</td>\n",
       "      <td>7.000000</td>\n",
       "      <td>4.00000</td>\n",
       "    </tr>\n",
       "    <tr>\n",
       "      <th>max</th>\n",
       "      <td>3.000000</td>\n",
       "      <td>4.000000</td>\n",
       "      <td>2.0</td>\n",
       "      <td>6.000000</td>\n",
       "      <td>5.000000</td>\n",
       "      <td>5.000000</td>\n",
       "      <td>5.000000</td>\n",
       "      <td>5.000000</td>\n",
       "      <td>5.000000</td>\n",
       "      <td>5.000000</td>\n",
       "      <td>...</td>\n",
       "      <td>4.000000</td>\n",
       "      <td>4.000000</td>\n",
       "      <td>3.000000</td>\n",
       "      <td>2.000000</td>\n",
       "      <td>5.000000</td>\n",
       "      <td>5.000000</td>\n",
       "      <td>5.000000</td>\n",
       "      <td>9.000000</td>\n",
       "      <td>9.000000</td>\n",
       "      <td>9.00000</td>\n",
       "    </tr>\n",
       "  </tbody>\n",
       "</table>\n",
       "<p>8 rows × 83 columns</p>\n",
       "</div>"
      ],
      "text/plain": [
       "            AGER_TYP  ALTERSKATEGORIE_GROB  ANREDE_KZ  CJT_GESAMTTYP  \\\n",
       "count  125576.000000         745453.000000   465305.0  886367.000000   \n",
       "mean        2.215837              3.094037        2.0       3.632838   \n",
       "std         0.411404              0.714281        0.0       1.595021   \n",
       "min         2.000000              2.000000        2.0       1.000000   \n",
       "25%         2.000000              3.000000        2.0       2.000000   \n",
       "50%         2.000000              3.000000        2.0       4.000000   \n",
       "75%         2.000000              4.000000        2.0       5.000000   \n",
       "max         3.000000              4.000000        2.0       6.000000   \n",
       "\n",
       "       FINANZ_MINIMALIST  FINANZ_SPARER  FINANZ_VORSORGER  FINANZ_ANLEGER  \\\n",
       "count      751634.000000  641008.000000     786852.000000   680409.000000   \n",
       "mean            3.459792       3.531869          3.719591        3.663317   \n",
       "std             1.059065       1.087767          1.055343        1.177595   \n",
       "min             2.000000       2.000000          2.000000        2.000000   \n",
       "25%             3.000000       3.000000          3.000000        3.000000   \n",
       "50%             3.000000       4.000000          4.000000        4.000000   \n",
       "75%             4.000000       4.000000          5.000000        5.000000   \n",
       "max             5.000000       5.000000          5.000000        5.000000   \n",
       "\n",
       "       FINANZ_UNAUFFAELLIGER  FINANZ_HAUSBAUER      ...          PLZ8_ANTG1  \\\n",
       "count          670624.000000     748117.000000      ...       774706.000000   \n",
       "mean                3.490661          3.472061      ...            2.253330   \n",
       "std                 1.184051          1.095589      ...            0.972008   \n",
       "min                 2.000000          2.000000      ...            0.000000   \n",
       "25%                 2.000000          3.000000      ...            1.000000   \n",
       "50%                 3.000000          3.000000      ...            2.000000   \n",
       "75%                 5.000000          4.000000      ...            3.000000   \n",
       "max                 5.000000          5.000000      ...            4.000000   \n",
       "\n",
       "          PLZ8_ANTG2     PLZ8_ANTG3     PLZ8_ANTG4    PLZ8_BAUMAX  \\\n",
       "count  774706.000000  774706.000000  774706.000000  774706.000000   \n",
       "mean        2.801858       1.595426       0.699166       1.943913   \n",
       "std         0.920309       0.986736       0.727137       1.459654   \n",
       "min         0.000000       0.000000       0.000000       1.000000   \n",
       "25%         2.000000       1.000000       0.000000       1.000000   \n",
       "50%         3.000000       2.000000       1.000000       1.000000   \n",
       "75%         3.000000       2.000000       1.000000       3.000000   \n",
       "max         4.000000       3.000000       2.000000       5.000000   \n",
       "\n",
       "            PLZ8_HHZ       PLZ8_GBZ         ARBEIT    ORTSGR_KLS9  \\\n",
       "count  774706.000000  774706.000000  794005.000000  794005.000000   \n",
       "mean        3.612821       3.381087       3.167854       5.293002   \n",
       "std         0.973967       1.111598       1.002376       2.303739   \n",
       "min         1.000000       1.000000       1.000000       0.000000   \n",
       "25%         3.000000       3.000000       3.000000       4.000000   \n",
       "50%         4.000000       3.000000       3.000000       5.000000   \n",
       "75%         4.000000       4.000000       4.000000       7.000000   \n",
       "max         5.000000       5.000000       9.000000       9.000000   \n",
       "\n",
       "           RELAT_AB  \n",
       "count  794005.00000  \n",
       "mean        3.07222  \n",
       "std         1.36298  \n",
       "min         1.00000  \n",
       "25%         2.00000  \n",
       "50%         3.00000  \n",
       "75%         4.00000  \n",
       "max         9.00000  \n",
       "\n",
       "[8 rows x 83 columns]"
      ]
     },
     "execution_count": 176,
     "metadata": {},
     "output_type": "execute_result"
    }
   ],
   "source": [
    "azdias.describe()"
   ]
  },
  {
   "cell_type": "markdown",
   "metadata": {},
   "source": [
    "#### Step 1.1.2: Assess Missing Data in Each Column\n",
    "\n",
    "How much missing data is present in each column? There are a few columns that are outliers in terms of the proportion of values that are missing. You will want to use matplotlib's [`hist()`](https://matplotlib.org/api/_as_gen/matplotlib.pyplot.hist.html) function to visualize the distribution of missing value counts to find these columns. Identify and document these columns. While some of these columns might have justifications for keeping or re-encoding the data, for this project you should just remove them from the dataframe. (Feel free to make remarks about these outlier columns in the discussion, however!)\n",
    "\n",
    "For the remaining features, are there any patterns in which columns have, or share, missing data?"
   ]
  },
  {
   "cell_type": "code",
   "execution_count": 203,
   "metadata": {},
   "outputs": [],
   "source": [
    "# Perform an assessment of how much missing data there is in each column of the\n",
    "# dataset.\n",
    "missing_data = azdias.isnull().sum()\n",
    "missing_data = (missing_data[missing_data > 0]/azdias.shape[0]) * 100\n",
    "missing_data.sort_values(inplace=True)\n"
   ]
  },
  {
   "cell_type": "code",
   "execution_count": 204,
   "metadata": {},
   "outputs": [
    {
     "data": {
      "text/plain": [
       "CJT_GESAMTTYP             0.544646\n",
       "LP_STATUS_GROB            0.544646\n",
       "LP_STATUS_FEIN            0.544646\n",
       "LP_FAMILIE_GROB           0.544646\n",
       "LP_FAMILIE_FEIN           0.544646\n",
       "RETOURTYP_BK_S            0.544646\n",
       "LP_LEBENSPHASE_FEIN       0.544646\n",
       "GFK_URLAUBERTYP           0.544646\n",
       "ONLINE_AFFINITAET         0.544646\n",
       "LP_LEBENSPHASE_GROB       0.544646\n",
       "HH_EINKOMMEN_SCORE        2.058749\n",
       "SEMIO_ERL                 4.790731\n",
       "SEMIO_DOM                 5.022548\n",
       "SEMIO_RAT                 5.248305\n",
       "SEMIO_KAEM                5.296442\n",
       "SEMIO_KRIT                6.165362\n",
       "SEMIO_SOZ                 6.966622\n",
       "ANZ_TITEL                 8.247000\n",
       "ANZ_PERSONEN              8.247000\n",
       "ALTER_HH                  8.247000\n",
       "TITEL_KZ                  8.247000\n",
       "SOHO_KZ                   8.247000\n",
       "WOHNDAUER_2008            8.247000\n",
       "KONSUMNAEHE               8.299737\n",
       "SEMIO_PFLICHT             8.320607\n",
       "SEMIO_FAM                 9.191435\n",
       "WOHNLAGE                 10.451729\n",
       "OST_WEST_KZ              10.451729\n",
       "MIN_GEBAEUDEJAHR         10.451729\n",
       "ANZ_HAUSHALTE_AKTIV      10.451729\n",
       "                           ...    \n",
       "RELAT_AB                 10.908181\n",
       "ORTSGR_KLS9              10.908181\n",
       "SEMIO_MAT                10.922207\n",
       "CAMEO_DEU_2015           11.147852\n",
       "CAMEO_INTL_2015          11.147852\n",
       "FINANZ_VORSORGER         11.710788\n",
       "KBA13_ANZAHL_PKW         11.871354\n",
       "W_KEIT_KIND_HH           12.073549\n",
       "SEMIO_REL                12.132793\n",
       "SEMIO_LUST               12.385480\n",
       "PLZ8_ANTG4               13.073637\n",
       "PLZ8_HHZ                 13.073637\n",
       "PLZ8_ANTG2               13.073637\n",
       "PLZ8_GBZ                 13.073637\n",
       "PLZ8_ANTG1               13.073637\n",
       "PLZ8_BAUMAX              13.073637\n",
       "PLZ8_ANTG3               13.073637\n",
       "SEMIO_VERT               13.513708\n",
       "KKK                      13.598872\n",
       "REGIOTYP                 13.598872\n",
       "ZABEOTYP                 13.871082\n",
       "SEMIO_KULT               14.386555\n",
       "PRAEGENDE_JUGENDJAHRE    14.524568\n",
       "MOBI_REGIO               14.959701\n",
       "KBA05_GBZ                14.959701\n",
       "KBA05_BAUMAX             14.959701\n",
       "KBA05_ANTG4              14.959701\n",
       "KBA05_ANTG2              14.959701\n",
       "KBA05_ANTG1              14.959701\n",
       "KBA05_ANTG3              14.959701\n",
       "Length: 68, dtype: float64"
      ]
     },
     "execution_count": 204,
     "metadata": {},
     "output_type": "execute_result"
    }
   ],
   "source": [
    "missing_data"
   ]
  },
  {
   "cell_type": "code",
   "execution_count": 179,
   "metadata": {},
   "outputs": [
    {
     "data": {
      "image/png": "[encoded data removed]",
      "text/plain": [
       "<Figure size 2160x720 with 1 Axes>"
      ]
     },
     "metadata": {
      "needs_background": "light"
     },
     "output_type": "display_data"
    }
   ],
   "source": [
    "# Investigate patterns in the amount of missing data in each column.\n",
    " \n",
    "plt.figure(figsize=(30,10))\n",
    "plt.yticks(np.arange(0, 100, 5))\n",
    "missing_data.plot.bar(color='r')\n",
    "plt.xlabel('Columns that have missing values')\n",
    "plt.ylabel('Percentage %')\n",
    "plt.show()"
   ]
  },
  {
   "cell_type": "code",
   "execution_count": 180,
   "metadata": {},
   "outputs": [
    {
     "data": {
      "text/plain": [
       "(891221, 69)"
      ]
     },
     "execution_count": 180,
     "metadata": {},
     "output_type": "execute_result"
    }
   ],
   "source": [
    "# Remove the outlier columns from the dataset. (You'll perform other data\n",
    "# engineering tasks such as re-encoding and imputation later.)\n",
    "# drop the columns with missing columns upto 15% and above\n",
    "col=missing_data[missing_data>15]\n",
    "col=col.index.tolist()\n",
    "azdias.drop(col,axis=1,inplace=True)\n",
    "azdias.reset_index(drop=True)\n",
    "azdias.shape"
   ]
  },
  {
   "cell_type": "markdown",
   "metadata": {},
   "source": [
    "#### Discussion 1.1.2: Assess Missing Data in Each Column\n",
    "\n",
    "The dataset azdias has 85 columns/attributes, of which columns that have missing values of more than 15% are dropped."
   ]
  },
  {
   "cell_type": "markdown",
   "metadata": {},
   "source": [
    "#### Step 1.1.3: Assess Missing Data in Each Row\n",
    "\n",
    "Now, you'll perform a similar assessment for the rows of the dataset. How much data is missing in each row? As with the columns, you should see some groups of points that have a very different numbers of missing values. Divide the data into two subsets: one for data points that are above some threshold for missing values, and a second subset for points below that threshold.\n",
    "\n",
    "In order to know what to do with the outlier rows, we should see if the distribution of data values on columns that are not missing data (or are missing very little data) are similar or different between the two groups. Select at least five of these columns and compare the distribution of values.\n",
    "- You can use seaborn's [`countplot()`](https://seaborn.pydata.org/generated/seaborn.countplot.html) function to create a bar chart of code frequencies and matplotlib's [`subplot()`](https://matplotlib.org/api/_as_gen/matplotlib.pyplot.subplot.html) function to put bar charts for the two subplots side by side.\n",
    "- To reduce repeated code, you might want to write a function that can perform this comparison, taking as one of its arguments a column to be compared.\n",
    "\n",
    "Depending on what you observe in your comparison, this will have implications on how you approach your conclusions later in the analysis. If the distributions of non-missing features look similar between the data with many missing values and the data with few or no missing values, then we could argue that simply dropping those points from the analysis won't present a major issue. On the other hand, if the data with many missing values looks very different from the data with few or no missing values, then we should make a note on those data as special. We'll revisit these data later on. **Either way, you should continue your analysis for now using just the subset of the data with few or no missing values.**"
   ]
  },
  {
   "cell_type": "code",
   "execution_count": 181,
   "metadata": {
    "scrolled": true
   },
   "outputs": [
    {
     "name": "stdout",
     "output_type": "stream",
     "text": [
      "At an average 6.381416057296675 columns within each row have missing values \n",
      "Total rows with missing value : 737079\n"
     ]
    }
   ],
   "source": [
    "# How much data is missing in each row of the dataset?\n",
    "\n",
    "print(\"At an average {} columns within each row have missing values \".format((azdias.isnull().sum(axis=1).mean())))\n",
    "print(\"Total rows with missing value : {}\".format(sum(azdias.isnull().sum(axis=1)>0)))\n"
   ]
  },
  {
   "cell_type": "code",
   "execution_count": 344,
   "metadata": {},
   "outputs": [
    {
     "name": "stdout",
     "output_type": "stream",
     "text": [
      "Subset_1 dimension : (149179, 69)\n",
      "Subset_2 dimension : (742042, 69)\n"
     ]
    }
   ],
   "source": [
    "# Write code to divide the data into two subsets based on the number of missing\n",
    "# values in each row.\n",
    "subset_1= azdias[azdias.isnull().sum(axis=1)>azdias.isnull().sum(axis=1).mean()]\n",
    "\n",
    "subset_2= azdias[azdias.isnull().sum(axis=1)<=azdias.isnull().sum(axis=1).mean()]\n",
    "print(\"Subset_1 dimension : {}\".format(subset_1.shape))\n",
    "print(\"Subset_2 dimension : {}\".format(subset_2.shape))\n"
   ]
  },
  {
   "cell_type": "code",
   "execution_count": 183,
   "metadata": {},
   "outputs": [
    {
     "name": "stderr",
     "output_type": "stream",
     "text": [
      "c:\\program files\\python36\\lib\\site-packages\\ipykernel_launcher.py:14: UserWarning: Matplotlib is currently using module://ipykernel.pylab.backend_inline, which is a non-GUI backend, so cannot show the figure.\n",
      "  \n"
     ]
    },
    {
     "data": {
      "image/png": "[encoded data removed]",
      "text/plain": [
       "<Figure size 1080x1080 with 10 Axes>"
      ]
     },
     "metadata": {
      "needs_background": "light"
     },
     "output_type": "display_data"
    }
   ],
   "source": [
    "# Compare the distribution of values for at least five columns where there are\n",
    "# no or few missing values, between the two subsets.\n",
    "\n",
    "col=subset_2.columns\n",
    "fig, axs = plt.subplots(nrows=5, ncols=2,clear=True,figsize=(15,15))\n",
    "fig.subplots_adjust(hspace =0.5 , wspace=0.2)\n",
    " \n",
    "for i in range(0,5): \n",
    "    #plt.figure(figsize=(4,2))\n",
    "    sns.countplot(subset_2[subset_2.columns[i]],ax=axs[i,0])\n",
    "    axs[i,0].set_title('Subset2: less missing values')\n",
    "    sns.countplot(subset_1[subset_1.columns[i]],ax=axs[i,1])\n",
    "    axs[i,1].set_title('Subset1: Higher missing values')\n",
    "    fig.show();"
   ]
  },
  {
   "cell_type": "markdown",
   "metadata": {},
   "source": [
    "#### Discussion 1.1.3: Assess Missing Data in Each Row\n",
    "\n",
    "The plot depicts the comparion of 2 subset of data, first plot with less missing value and the second plot with higer missing value for the corresponding column. The division of the dataset is set by considering the average missing value across rows.\n",
    "\n",
    "Although there are quite a few columns with similar distributions across rows within the two groups based on missing values per row, it would be safe to say that data with lots of missing values are qualitatively different overall from the data with few or no missing values."
   ]
  },
  {
   "cell_type": "markdown",
   "metadata": {},
   "source": [
    "### Step 1.2: Select and Re-Encode Features\n",
    "\n",
    "Checking for missing data isn't the only way in which you can prepare a dataset for analysis. Since the unsupervised learning techniques to be used will only work on data that is encoded numerically, you need to make a few encoding changes or additional assumptions to be able to make progress. In addition, while almost all of the values in the dataset are encoded using numbers, not all of them represent numeric values. Check the third column of the feature summary (`feat_info`) for a summary of types of measurement.\n",
    "- For numeric and interval data, these features can be kept without changes.\n",
    "- Most of the variables in the dataset are ordinal in nature. While ordinal values may technically be non-linear in spacing, make the simplifying assumption that the ordinal variables can be treated as being interval in nature (that is, kept without any changes).\n",
    "- Special handling may be necessary for the remaining two variable types: categorical, and 'mixed'.\n",
    "\n",
    "In the first two parts of this sub-step, you will perform an investigation of the categorical and mixed-type features and make a decision on each of them, whether you will keep, drop, or re-encode each. Then, in the last part, you will create a new data frame with only the selected and engineered columns.\n",
    "\n",
    "Data wrangling is often the trickiest part of the data analysis process, and there's a lot of it to be done here. But stick with it: once you're done with this step, you'll be ready to get to the machine learning parts of the project!"
   ]
  },
  {
   "cell_type": "code",
   "execution_count": 184,
   "metadata": {},
   "outputs": [
    {
     "data": {
      "text/html": [
       "<div>\n",
       "<style scoped>\n",
       "    .dataframe tbody tr th:only-of-type {\n",
       "        vertical-align: middle;\n",
       "    }\n",
       "\n",
       "    .dataframe tbody tr th {\n",
       "        vertical-align: top;\n",
       "    }\n",
       "\n",
       "    .dataframe thead th {\n",
       "        text-align: right;\n",
       "    }\n",
       "</style>\n",
       "<table border=\"1\" class=\"dataframe\">\n",
       "  <thead>\n",
       "    <tr style=\"text-align: right;\">\n",
       "      <th></th>\n",
       "      <th>attribute</th>\n",
       "      <th>information_level</th>\n",
       "      <th>missing_or_unknown</th>\n",
       "    </tr>\n",
       "    <tr>\n",
       "      <th>type</th>\n",
       "      <th></th>\n",
       "      <th></th>\n",
       "      <th></th>\n",
       "    </tr>\n",
       "  </thead>\n",
       "  <tbody>\n",
       "    <tr>\n",
       "      <th>categorical</th>\n",
       "      <td>21</td>\n",
       "      <td>21</td>\n",
       "      <td>21</td>\n",
       "    </tr>\n",
       "    <tr>\n",
       "      <th>interval</th>\n",
       "      <td>1</td>\n",
       "      <td>1</td>\n",
       "      <td>1</td>\n",
       "    </tr>\n",
       "    <tr>\n",
       "      <th>mixed</th>\n",
       "      <td>7</td>\n",
       "      <td>7</td>\n",
       "      <td>7</td>\n",
       "    </tr>\n",
       "    <tr>\n",
       "      <th>numeric</th>\n",
       "      <td>7</td>\n",
       "      <td>7</td>\n",
       "      <td>7</td>\n",
       "    </tr>\n",
       "    <tr>\n",
       "      <th>ordinal</th>\n",
       "      <td>49</td>\n",
       "      <td>49</td>\n",
       "      <td>49</td>\n",
       "    </tr>\n",
       "  </tbody>\n",
       "</table>\n",
       "</div>"
      ],
      "text/plain": [
       "             attribute  information_level  missing_or_unknown\n",
       "type                                                         \n",
       "categorical         21                 21                  21\n",
       "interval             1                  1                   1\n",
       "mixed                7                  7                   7\n",
       "numeric              7                  7                   7\n",
       "ordinal             49                 49                  49"
      ]
     },
     "execution_count": 184,
     "metadata": {},
     "output_type": "execute_result"
    }
   ],
   "source": [
    "# How many features are there of each data type?\n",
    "feat_info.groupby('type').count()"
   ]
  },
  {
   "cell_type": "code",
   "execution_count": 185,
   "metadata": {},
   "outputs": [],
   "source": [
    "categorical_var = []\n",
    "mixed_var = []\n",
    "\n",
    "for i in feat_info.index.values:\n",
    "    if feat_info.loc[i].values[2]=='mixed':\n",
    "        mixed_var.append(feat_info.loc[i].values[0])\n",
    "    if feat_info.loc[i].values[2]=='categorical':\n",
    "        categorical_var.append(feat_info.loc[i].values[0])\n"
   ]
  },
  {
   "cell_type": "markdown",
   "metadata": {},
   "source": [
    "#### Step 1.2.1: Re-Encode Categorical Features\n",
    "\n",
    "For categorical data, you would ordinarily need to encode the levels as dummy variables. Depending on the number of categories, perform one of the following:\n",
    "- For binary (two-level) categoricals that take numeric values, you can keep them without needing to do anything.\n",
    "- There is one binary variable that takes on non-numeric values. For this one, you need to re-encode the values as numbers or create a dummy variable.\n",
    "- For multi-level categoricals (three or more values), you can choose to encode the values using multiple dummy variables (e.g. via [OneHotEncoder](http://scikit-learn.org/stable/modules/generated/sklearn.preprocessing.OneHotEncoder.html)), or (to keep things straightforward) just drop them from the analysis. As always, document your choices in the Discussion section."
   ]
  },
  {
   "cell_type": "code",
   "execution_count": 214,
   "metadata": {
    "scrolled": true
   },
   "outputs": [
    {
     "name": "stdout",
     "output_type": "stream",
     "text": [
      " Column GREEN_AVANTGARDE  has values -  {0, 1}\n",
      " Column SOHO_KZ  has values -  {0.0, 1.0}\n",
      " Column OST_WEST_KZ  has values -  {'O', 'W'}\n"
     ]
    }
   ],
   "source": [
    "# Assess categorical variables: which are binary, which are multi-level, and\n",
    "# which one needs to be re-encoded?\n",
    "\n",
    "binary_var = []\n",
    "\n",
    "for i, j in enumerate(categorical_var):    \n",
    "    if subset_2.columns.isin([categorical_var[i]]).sum() > 0:\n",
    "        #print(set((subset_2[categorical_var[i]].values)))\n",
    "        if len(set(subset_2[categorical_var[i]].values)) == 2:\n",
    "            print(\" Column\",categorical_var[i],\" has values - \",set((subset_2[categorical_var[i]].unique())))\n",
    "            binary_var.append(categorical_var[i])\n",
    "            \n",
    "# Looks good the, the identified columns are already in binary level"
   ]
  },
  {
   "cell_type": "code",
   "execution_count": 215,
   "metadata": {},
   "outputs": [
    {
     "name": "stdout",
     "output_type": "stream",
     "text": [
      " Column CJT_GESAMTTYP  has values -  {1.0, 2.0, 3.0, 4.0, 5.0, 6.0}\n",
      " Column GFK_URLAUBERTYP  has values -  {1.0, 2.0, 3.0, 4.0, 5.0, 6.0, 7.0, 8.0, 9.0, 10.0, 11.0, 12.0}\n",
      " Column LP_FAMILIE_FEIN  has values -  {0.0, 1.0, 2.0, 3.0, 4.0, 5.0, 6.0, 7.0, 8.0, 9.0, 10.0, 11.0}\n",
      " Column LP_FAMILIE_GROB  has values -  {0.0, 1.0, 2.0, 3.0, 4.0, 5.0}\n",
      " Column LP_STATUS_FEIN  has values -  {1.0, 2.0, 3.0, 4.0, 5.0, 6.0, 7.0, 8.0, 9.0, 10.0}\n",
      " Column LP_STATUS_GROB  has values -  {1.0, 2.0, 3.0, 4.0, 5.0}\n",
      " Column TITEL_KZ  has values -  {0.0, 1.0, 2.0, 3.0, 4.0, 5.0}\n",
      " Column ZABEOTYP  has values -  {nan, 2.0, 3.0, 4.0, 5.0, 6.0}\n",
      " Column GEBAEUDETYP  has values -  {1.0, 2.0, 3.0, 4.0, 5.0, 6.0, 8.0}\n",
      " Column CAMEO_DEU_2015  has values -  {nan, '2D', '2A', '5A', '2C', '1C', '6A', '8D', '6C', '5E', '9A', '7C', '2B', '1A', '4A', '6B', '8A', '8C', '6F', '6D', '3A', '8B', '7A', '3B', '7E', '9B', '4B', '9C', '1D', '5F', '3C', '3D', '4C', '7B', '1B', '5C', '5D', '4E', '6E', '7D', '9E', '9D', '5B', '4D', '1E'}\n"
     ]
    }
   ],
   "source": [
    "# Finding multi-level categorical variables\n",
    "\n",
    "multi_lvl_cols = []\n",
    "\n",
    "for i,j in enumerate(categorical_var):    \n",
    "    if subset_2.columns.isin([categorical_var[i]]).sum() > 0:        \n",
    "        if len(set(subset_2[categorical_var[i]].values)) > 2:\n",
    "            print(\" Column\",categorical_var[i],\" has values - \",set((subset_2[categorical_var[i]].unique())))\n",
    "            multi_lvl_cols.append(categorical_var[i])\n"
   ]
  },
  {
   "cell_type": "code",
   "execution_count": 345,
   "metadata": {},
   "outputs": [],
   "source": [
    "# Re-encode multi level values\n",
    "multi_cats_df=subset_2[multi_lvl_cols]\n",
    "multi_cats_encoded = pd.get_dummies(multi_cats_df)\n",
    "subset_2_new=subset_2.drop(multi_lvl_cols,axis=1)\n",
    "subset_2_new.reset_index(drop=True,inplace=True);\n",
    "multi_cats_encoded.reset_index(drop=True,inplace=True);\n",
    "subset_2_new=pd.concat([subset_2_new,multi_cats_encoded], axis=1)"
   ]
  },
  {
   "cell_type": "code",
   "execution_count": 295,
   "metadata": {},
   "outputs": [
    {
     "data": {
      "text/plain": [
       "(742042, 112)"
      ]
     },
     "execution_count": 295,
     "metadata": {},
     "output_type": "execute_result"
    }
   ],
   "source": [
    "subset_2_new.shape"
   ]
  },
  {
   "cell_type": "markdown",
   "metadata": {},
   "source": [
    "#### Discussion 1.2.1: Re-Encode Categorical Features\n",
    "\n",
    "In the event of the analysis, It is noted that the columns identified as categorical and classified as binary level looks good. However I have identified multi level class variables or columns that are hot-encoded and added back to the data"
   ]
  },
  {
   "cell_type": "markdown",
   "metadata": {},
   "source": [
    "#### Step 1.2.2: Engineer Mixed-Type Features\n",
    "\n",
    "There are a handful of features that are marked as \"mixed\" in the feature summary that require special treatment in order to be included in the analysis. There are two in particular that deserve attention; the handling of the rest are up to your own choices:\n",
    "- \"PRAEGENDE_JUGENDJAHRE\" combines information on three dimensions: generation by decade, movement (mainstream vs. avantgarde), and nation (east vs. west). While there aren't enough levels to disentangle east from west, you should create two new variables to capture the other two dimensions: an interval-type variable for decade, and a binary variable for movement.\n",
    "- \"CAMEO_INTL_2015\" combines information on two axes: wealth and life stage. Break up the two-digit codes by their 'tens'-place and 'ones'-place digits into two new ordinal variables (which, for the purposes of this project, is equivalent to just treating them as their raw numeric values).\n",
    "- If you decide to keep or engineer new features around the other mixed-type features, make sure you note your steps in the Discussion section.\n",
    "\n",
    "Be sure to check `Data_Dictionary.md` for the details needed to finish these tasks."
   ]
  },
  {
   "cell_type": "code",
   "execution_count": 346,
   "metadata": {},
   "outputs": [],
   "source": [
    "# Investigate \"PRAEGENDE_JUGENDJAHRE\" and engineer two new variables.\n",
    "\n",
    "# below decoding is based on the \n",
    "p_j_dict_dec = {1: 1 , 2: 1 , 3: 2 , 4: 2 , 5: 3 ,6: 3 , 7: 3 , 8: 4 , 9: 4 , 10: 5 ,11: 5 , 12: 5 , 13: 5 , 14: 6 , 15: 6 }\n",
    "subset_2_new[\"P_J_Decode\"] = subset_2_new[\"PRAEGENDE_JUGENDJAHRE\"]\n",
    "subset_2_new[\"P_J_Decode\"] = subset_2_new[\"P_J_Decode\"].map(p_j_dict_dec)\n",
    "\n",
    "#decode mainstream as 1 and avantgarde as 0\n",
    "\n",
    "p_j_dict_mov = {1:0,2:1,3:0,4:1,5:0,6:1,7:0,8:1,9:0,10:1,11:0,12:1,13:0,14:1,15:0}\n",
    "subset_2_new[\"P_J_Movement\"] = subset_2_new[\"PRAEGENDE_JUGENDJAHRE\"]\n",
    "subset_2_new[\"P_J_Movement\"] = subset_2_new[\"P_J_Movement\"].map(p_j_dict_mov)\n"
   ]
  },
  {
   "cell_type": "code",
   "execution_count": 351,
   "metadata": {},
   "outputs": [],
   "source": [
    "# Investigate \"CAMEO_INTL_2015\" and engineer two new variables. \n",
    "c_i_wealth = {11.: 1.0, 12.: 1.0, 13.: 1.0, 14.: 1.0, 15.: 1.0,21.: 2.0, 22.: 2.0, 23.: 2.0, 24.: 2.0, 25.: 2.0,\n",
    "                      31.: 3.0, 32.: 3.0, 33.: 3.0, 34.: 3.0, 35.: 3.0,\\\n",
    "                      41.: 4.0, 42.: 4.0, 43.: 4.0, 44.: 4.0, 45.: 4.0,\\\n",
    "                      51.: 5.0, 52.: 5.0, 53.: 5.0, 54.: 5.0, 55.: 1.0}\n",
    "\n",
    "c_i_life = {11.: 1.0, 12.: 2.0, 13.: 3.0, 14.: 4.0, 15.: 5.0,\\\n",
    "                  21.: 1.0, 22.: 2.0, 23.: 3.0, 24.: 4.0, 25.: 5.0,\\\n",
    "                  31.: 1.0, 32.: 2.0, 33.: 3.0, 34.: 4.0, 35.: 5.0,\\\n",
    "                  41.: 1.0, 42.: 2.0, 43.: 3.0, 44.: 4.0, 45.: 5.0,\\\n",
    "                  51.: 1.0, 52.: 2.0, 53.: 3.0, 54.: 4.0, 55.: 5.0}\n",
    "\n",
    "\n",
    "O_W_K= {'-1': np.nan, 'O': 1,'W': 0}\n",
    "    \n",
    "\n",
    "#decode west as 0 and east as 1\n",
    "    \n",
    "subset_2_new[\"OST_WEST_KZ\"] = subset_2_new[\"OST_WEST_KZ\"].map(O_W_K)\n",
    "subset_2_new[\"OST_WEST_KZ\"].unique()\n",
    "\n",
    "subset_2_new[\"C_I_lifestage\"] = subset_2_new[\"CAMEO_INTL_2015\"]\n",
    "subset_2_new[\"C_I_lifestage\"] = subset_2_new[\"C_I_lifestage\"].map(c_i_life)\n",
    "\n",
    "subset_2_new[\"c_i_wealth\"] = subset_2_new[\"CAMEO_INTL_2015\"]\n",
    "subset_2_new[\"c_i_wealth\"] = subset_2_new[\"c_i_wealth\"].map(c_i_wealth)\n",
    " \n"
   ]
  },
  {
   "cell_type": "markdown",
   "metadata": {},
   "source": [
    "#### Discussion 1.2.2: Engineer Mixed-Type Features\n",
    "\n",
    "(Double-click this cell and replace this text with your own text, reporting your findings and decisions regarding mixed-value features. Which ones did you keep, which did you drop, and what engineering steps did you perform?)"
   ]
  },
  {
   "cell_type": "markdown",
   "metadata": {},
   "source": [
    "#### Step 1.2.3: Complete Feature Selection\n",
    "\n",
    "In order to finish this step up, you need to make sure that your data frame now only has the columns that you want to keep. To summarize, the dataframe should consist of the following:\n",
    "- All numeric, interval, and ordinal type columns from the original dataset.\n",
    "- Binary categorical features (all numerically-encoded).\n",
    "- Engineered features from other multi-level categorical features and mixed features.\n",
    "\n",
    "Make sure that for any new columns that you have engineered, that you've excluded the original columns from the final dataset. Otherwise, their values will interfere with the analysis later on the project. For example, you should not keep \"PRAEGENDE_JUGENDJAHRE\", since its values won't be useful for the algorithm: only the values derived from it in the engineered features you created should be retained. As a reminder, your data should only be from **the subset with few or no missing values**."
   ]
  },
  {
   "cell_type": "code",
   "execution_count": 144,
   "metadata": {},
   "outputs": [],
   "source": [
    "# If there are other re-engineering tasks you need to perform, make sure you\n",
    "# take care of them here. (Dealing with missing data will come in step 2.1.)"
   ]
  },
  {
   "cell_type": "code",
   "execution_count": 352,
   "metadata": {},
   "outputs": [],
   "source": [
    "# Do whatever you need to in order to ensure that the dataframe only contains\n",
    "# the columns that should be passed to the algorithm functions.\n",
    "mixed_colum = ['WOHNLAGE','LP_LEBENSPHASE_GROB','LP_LEBENSPHASE_FEIN','KBA05_BAUMAX','PLZ8_BAUMAX','PRAEGENDE_JUGENDJAHRE','CAMEO_INTL_2015']\n",
    "for col in mixed_colum:\n",
    "    subset_2_new.drop(col, axis=1, inplace=True)\n",
    "subset_2_new.reset_index(drop=True,inplace=True)"
   ]
  },
  {
   "cell_type": "code",
   "execution_count": 353,
   "metadata": {},
   "outputs": [
    {
     "data": {
      "text/plain": [
       "(742042, 109)"
      ]
     },
     "execution_count": 353,
     "metadata": {},
     "output_type": "execute_result"
    }
   ],
   "source": [
    "subset_2_new.shape"
   ]
  },
  {
   "cell_type": "markdown",
   "metadata": {},
   "source": [
    "### Step 1.3: Create a Cleaning Function\n",
    "\n",
    "Even though you've finished cleaning up the general population demographics data, it's important to look ahead to the future and realize that you'll need to perform the same cleaning steps on the customer demographics data. In this substep, complete the function below to execute the main feature selection, encoding, and re-engineering steps you performed above. Then, when it comes to looking at the customer data in Step 3, you can just run this function on that DataFrame to get the trimmed dataset in a single step."
   ]
  },
  {
   "cell_type": "code",
   "execution_count": 532,
   "metadata": {},
   "outputs": [],
   "source": [
    "def clean_data(df_cust):\n",
    "    \"\"\"\n",
    "    Perform feature trimming, re-encoding, and engineering for demographics\n",
    "    data\n",
    "    \n",
    "    INPUT: Demographics DataFrame\n",
    "    OUTPUT: Trimmed and cleaned demographics DataFrame\n",
    "    \"\"\"\n",
    "    feat_info = pd.read_csv(\"AZDIAS_Feature_Summary.csv\",sep=';')\n",
    "    feat_info.set_index('attribute', inplace=True)\n",
    "    \n",
    "    # Put in code here to execute all main cleaning steps:\n",
    "    # convert missing value codes into NaNs, ...\n",
    "    azdias_1=df_cust\n",
    "    col=azdias_1.columns\n",
    "    for col_name in col:\n",
    "        azdias_1[col_name] = azdias_1[col_name].map(lambda x: np.nan if str(x) in feat_info.loc[col_name].missing_or_unknown else x)\n",
    "        \n",
    "    # select, re-encode, and engineer column values.\n",
    "    # below decoding is based on the \n",
    "    p_j_dict_dec = {1: 1.0, 2: 1.0, 3: 2.0, 4: 2.0, 5: 3.0,6: 3.0, 7: 3.0, 8: 4.0, 9: 4.0, 10: 5.0,11: 5.0, 12: 5.0, 13: 5.0, 14: 6.0, 15: 6.0}\n",
    "    p_j_dict_mov = {1: 0.0, 2: 1.0, 3: 0.0, 4: 1.0, 5: 0.0,6: 1.0, 7: 0.0, 8: 1.0, 9: 0.0, 10: 1.0,11: 0.0, 12: 1.0, 13: 0.0, 14: 1.0, 15: 0.0}\n",
    "\n",
    "    c_i_wealth = {'11': 1.0, '12': 1.0, '13': 1.0, '14': 1.0, '15': 1.0,\\\n",
    "                   '21': 2.0, '22': 2.0, '23': 2.0, '24': 2.0, '25': 2.0,\n",
    "                      '31': 3.0, '32': 3.0, '33': 3.0, '34': 3.0, '35': 3.0,\\\n",
    "                      '41': 4.0, '42': 4.0, '43': 4.0, '44': 4.0, '45': 4.0,\\\n",
    "                      '51': 5.0, '52': 5.0, '53': 5.0, '54': 5.0, '55': 1.0}\n",
    "\n",
    " \n",
    "    \n",
    "    c_i_life = {'11': 1.0, '12': 2.0, '13': 3.0, '14': 4.0, '15': 5.0,\\\n",
    "                  '21': 1.0, '22': 2.0, '23': 3.0, '24': 4.0, '25': 5.0,\\\n",
    "                  '31': 1.0, '32': 2.0, '33': 3.0, '34': 4.0, '35': 5.0,\\\n",
    "                  '41': 1.0, '42': 2.0, '43': 3.0, '44': 4.0, '45': 5.0,\\\n",
    "                  '51': 1.0, '52': 2.0, '53': 3.0, '54': 4.0, '55': 5.0} \n",
    "\n",
    "    O_W_K= {'-1': 1.0, 'O': 1,'W': 0}    \n",
    "\n",
    "    #decode mainstream as 1 and avantgarde as 0\n",
    "    \n",
    "    azdias_1[\"OST_WEST_KZ\"] = azdias_1[\"OST_WEST_KZ\"].map(O_W_K)\n",
    "\n",
    "    azdias_1[\"P_J_Movement\"] = azdias_1[\"PRAEGENDE_JUGENDJAHRE\"]\n",
    "    azdias_1[\"P_J_Movement\"] = azdias_1[\"P_J_Movement\"].map(p_j_dict_mov)\n",
    "    \n",
    "    \n",
    "    \n",
    "    azdias_1[\"P_J_Decade\"] = azdias_1[\"PRAEGENDE_JUGENDJAHRE\"]\n",
    "    azdias_1[\"P_J_Decade\"] = azdias_1[\"P_J_Decade\"].map(p_j_dict_dec)\n",
    "    \n",
    "    azdias_1[\"C_I_lifestage\"] = azdias_1[\"CAMEO_INTL_2015\"]\n",
    "    azdias_1[\"C_I_lifestage\"] = azdias_1[\"C_I_lifestage\"].map(c_i_life)\n",
    "\n",
    "    azdias_1[\"c_i_wealth\"] = azdias_1[\"CAMEO_INTL_2015\"]\n",
    "    azdias_1[\"c_i_wealth\"] = azdias_1[\"c_i_wealth\"].map(c_i_wealth)\n",
    "    \n",
    "    # below decoding is based on the \n",
    "    p_j_dict_dec = {1: 1 , 2: 1 , 3: 2 , 4: 2 , 5: 3 ,6: 3 , 7: 3 , 8: 4 , 9: 4 , 10: 5 ,11: 5 , 12: 5 , 13: 5 , 14: 6 , 15: 6 }\n",
    "    azdias_1[\"P_J_Decode\"] = azdias_1[\"PRAEGENDE_JUGENDJAHRE\"]\n",
    "    azdias_1[\"P_J_Decode\"] = azdias_1[\"P_J_Decode\"].map(p_j_dict_dec)\n",
    "\n",
    "    #decode mainstream as 1 and avantgarde as 0\n",
    "\n",
    "    p_j_dict_mov = {1:0,2:1,3:0,4:1,5:0,6:1,7:0,8:1,9:0,10:1,11:0,12:1,13:0,14:1,15:0}\n",
    "    azdias_1[\"P_J_Movement\"] = azdias_1[\"PRAEGENDE_JUGENDJAHRE\"]\n",
    "    azdias_1[\"P_J_Movement\"] = azdias_1[\"P_J_Movement\"].map(p_j_dict_mov)\n",
    "    azdias_1.reset_index(drop=True,inplace=True)\n",
    "    return azdias_1"
   ]
  },
  {
   "cell_type": "markdown",
   "metadata": {},
   "source": [
    "## Step 2: Feature Transformation\n",
    "\n",
    "### Step 2.1: Apply Feature Scaling\n",
    "\n",
    "Before we apply dimensionality reduction techniques to the data, we need to perform feature scaling so that the principal component vectors are not influenced by the natural differences in scale for features. Starting from this part of the project, you'll want to keep an eye on the [API reference page for sklearn](http://scikit-learn.org/stable/modules/classes.html) to help you navigate to all of the classes and functions that you'll need. In this substep, you'll need to check the following:\n",
    "\n",
    "- sklearn requires that data not have missing values in order for its estimators to work properly. So, before applying the scaler to your data, make sure that you've cleaned the DataFrame of the remaining missing values. This can be as simple as just removing all data points with missing data, or applying an [Imputer](http://scikit-learn.org/stable/modules/generated/sklearn.preprocessing.Imputer.html) to replace all missing values. You might also try a more complicated procedure where you temporarily remove missing values in order to compute the scaling parameters before re-introducing those missing values and applying imputation. Think about how much missing data you have and what possible effects each approach might have on your analysis, and justify your decision in the discussion section below.\n",
    "- For the actual scaling function, a [StandardScaler](http://scikit-learn.org/stable/modules/generated/sklearn.preprocessing.StandardScaler.html) instance is suggested, scaling each feature to mean 0 and standard deviation 1.\n",
    "- For these classes, you can make use of the `.fit_transform()` method to both fit a procedure to the data as well as apply the transformation to the data at the same time. Don't forget to keep the fit sklearn objects handy, since you'll be applying them to the customer demographics data towards the end of the project."
   ]
  },
  {
   "cell_type": "code",
   "execution_count": 335,
   "metadata": {},
   "outputs": [
    {
     "name": "stdout",
     "output_type": "stream",
     "text": [
      "Number of records with missing values :  742042\n",
      "Total number of missing values :  2018035\n"
     ]
    }
   ],
   "source": [
    "# If you've not yet cleaned the dataset of all NaN values, then investigate and\n",
    "# do that now.    \n",
    "print(\"Number of records with missing values : \", (subset_2_new.isnull().sum(axis=1) > 0).sum())\n",
    "print(  \"Total number of missing values : \", subset_2_new.isnull().sum().sum() )\n"
   ]
  },
  {
   "cell_type": "code",
   "execution_count": 336,
   "metadata": {
    "scrolled": true
   },
   "outputs": [
    {
     "data": {
      "text/plain": [
       "(742042, 109)"
      ]
     },
     "execution_count": 336,
     "metadata": {},
     "output_type": "execute_result"
    }
   ],
   "source": [
    "subset_2_new.reset_index(drop=True,inplace=True)\n",
    "subset_2_new.shape "
   ]
  },
  {
   "cell_type": "code",
   "execution_count": 591,
   "metadata": {},
   "outputs": [
    {
     "name": "stderr",
     "output_type": "stream",
     "text": [
      "c:\\program files\\python36\\lib\\site-packages\\sklearn\\utils\\deprecation.py:66: DeprecationWarning: Class Imputer is deprecated; Imputer was deprecated in version 0.20 and will be removed in 0.22. Import impute.SimpleImputer from sklearn instead.\n",
      "  warnings.warn(msg, category=DeprecationWarning)\n"
     ]
    },
    {
     "data": {
      "text/html": [
       "<div>\n",
       "<style scoped>\n",
       "    .dataframe tbody tr th:only-of-type {\n",
       "        vertical-align: middle;\n",
       "    }\n",
       "\n",
       "    .dataframe tbody tr th {\n",
       "        vertical-align: top;\n",
       "    }\n",
       "\n",
       "    .dataframe thead th {\n",
       "        text-align: right;\n",
       "    }\n",
       "</style>\n",
       "<table border=\"1\" class=\"dataframe\">\n",
       "  <thead>\n",
       "    <tr style=\"text-align: right;\">\n",
       "      <th></th>\n",
       "      <th>FINANZ_VORSORGER</th>\n",
       "      <th>GREEN_AVANTGARDE</th>\n",
       "      <th>RETOURTYP_BK_S</th>\n",
       "      <th>SEMIO_SOZ</th>\n",
       "      <th>SEMIO_FAM</th>\n",
       "      <th>SEMIO_REL</th>\n",
       "      <th>SEMIO_MAT</th>\n",
       "      <th>SEMIO_VERT</th>\n",
       "      <th>SEMIO_LUST</th>\n",
       "      <th>SEMIO_ERL</th>\n",
       "      <th>...</th>\n",
       "      <th>CAMEO_DEU_2015_8D</th>\n",
       "      <th>CAMEO_DEU_2015_9A</th>\n",
       "      <th>CAMEO_DEU_2015_9B</th>\n",
       "      <th>CAMEO_DEU_2015_9C</th>\n",
       "      <th>CAMEO_DEU_2015_9D</th>\n",
       "      <th>CAMEO_DEU_2015_9E</th>\n",
       "      <th>P_J_Decode</th>\n",
       "      <th>P_J_Movement</th>\n",
       "      <th>C_I_lifestage</th>\n",
       "      <th>c_i_wealth</th>\n",
       "    </tr>\n",
       "  </thead>\n",
       "  <tbody>\n",
       "    <tr>\n",
       "      <th>0</th>\n",
       "      <td>2.000000</td>\n",
       "      <td>0.0</td>\n",
       "      <td>1.0</td>\n",
       "      <td>5.0</td>\n",
       "      <td>4.000000</td>\n",
       "      <td>4.0</td>\n",
       "      <td>3.000000</td>\n",
       "      <td>4.425214</td>\n",
       "      <td>2.0</td>\n",
       "      <td>2.0</td>\n",
       "      <td>...</td>\n",
       "      <td>0.0</td>\n",
       "      <td>0.0</td>\n",
       "      <td>0.0</td>\n",
       "      <td>0.0</td>\n",
       "      <td>0.0</td>\n",
       "      <td>0.0</td>\n",
       "      <td>6.0</td>\n",
       "      <td>1.0</td>\n",
       "      <td>1.0</td>\n",
       "      <td>5.0</td>\n",
       "    </tr>\n",
       "    <tr>\n",
       "      <th>1</th>\n",
       "      <td>3.801123</td>\n",
       "      <td>1.0</td>\n",
       "      <td>3.0</td>\n",
       "      <td>4.0</td>\n",
       "      <td>4.404838</td>\n",
       "      <td>3.0</td>\n",
       "      <td>3.000000</td>\n",
       "      <td>4.000000</td>\n",
       "      <td>4.0</td>\n",
       "      <td>6.0</td>\n",
       "      <td>...</td>\n",
       "      <td>0.0</td>\n",
       "      <td>0.0</td>\n",
       "      <td>0.0</td>\n",
       "      <td>0.0</td>\n",
       "      <td>0.0</td>\n",
       "      <td>0.0</td>\n",
       "      <td>6.0</td>\n",
       "      <td>0.0</td>\n",
       "      <td>4.0</td>\n",
       "      <td>2.0</td>\n",
       "    </tr>\n",
       "    <tr>\n",
       "      <th>2</th>\n",
       "      <td>5.000000</td>\n",
       "      <td>0.0</td>\n",
       "      <td>2.0</td>\n",
       "      <td>5.0</td>\n",
       "      <td>4.404838</td>\n",
       "      <td>2.0</td>\n",
       "      <td>4.258509</td>\n",
       "      <td>4.000000</td>\n",
       "      <td>4.0</td>\n",
       "      <td>7.0</td>\n",
       "      <td>...</td>\n",
       "      <td>0.0</td>\n",
       "      <td>0.0</td>\n",
       "      <td>0.0</td>\n",
       "      <td>0.0</td>\n",
       "      <td>0.0</td>\n",
       "      <td>0.0</td>\n",
       "      <td>4.0</td>\n",
       "      <td>1.0</td>\n",
       "      <td>2.0</td>\n",
       "      <td>1.0</td>\n",
       "    </tr>\n",
       "    <tr>\n",
       "      <th>3</th>\n",
       "      <td>4.000000</td>\n",
       "      <td>0.0</td>\n",
       "      <td>5.0</td>\n",
       "      <td>6.0</td>\n",
       "      <td>4.000000</td>\n",
       "      <td>4.0</td>\n",
       "      <td>2.000000</td>\n",
       "      <td>7.000000</td>\n",
       "      <td>4.0</td>\n",
       "      <td>4.0</td>\n",
       "      <td>...</td>\n",
       "      <td>0.0</td>\n",
       "      <td>0.0</td>\n",
       "      <td>0.0</td>\n",
       "      <td>0.0</td>\n",
       "      <td>0.0</td>\n",
       "      <td>0.0</td>\n",
       "      <td>4.0</td>\n",
       "      <td>1.0</td>\n",
       "      <td>3.0</td>\n",
       "      <td>4.0</td>\n",
       "    </tr>\n",
       "    <tr>\n",
       "      <th>4</th>\n",
       "      <td>5.000000</td>\n",
       "      <td>0.0</td>\n",
       "      <td>3.0</td>\n",
       "      <td>2.0</td>\n",
       "      <td>4.000000</td>\n",
       "      <td>7.0</td>\n",
       "      <td>4.000000</td>\n",
       "      <td>2.000000</td>\n",
       "      <td>2.0</td>\n",
       "      <td>2.0</td>\n",
       "      <td>...</td>\n",
       "      <td>0.0</td>\n",
       "      <td>0.0</td>\n",
       "      <td>0.0</td>\n",
       "      <td>0.0</td>\n",
       "      <td>0.0</td>\n",
       "      <td>0.0</td>\n",
       "      <td>2.0</td>\n",
       "      <td>0.0</td>\n",
       "      <td>4.0</td>\n",
       "      <td>5.0</td>\n",
       "    </tr>\n",
       "  </tbody>\n",
       "</table>\n",
       "<p>5 rows × 109 columns</p>\n",
       "</div>"
      ],
      "text/plain": [
       "   FINANZ_VORSORGER  GREEN_AVANTGARDE  RETOURTYP_BK_S  SEMIO_SOZ  SEMIO_FAM  \\\n",
       "0          2.000000               0.0             1.0        5.0   4.000000   \n",
       "1          3.801123               1.0             3.0        4.0   4.404838   \n",
       "2          5.000000               0.0             2.0        5.0   4.404838   \n",
       "3          4.000000               0.0             5.0        6.0   4.000000   \n",
       "4          5.000000               0.0             3.0        2.0   4.000000   \n",
       "\n",
       "   SEMIO_REL  SEMIO_MAT  SEMIO_VERT  SEMIO_LUST  SEMIO_ERL     ...      \\\n",
       "0        4.0   3.000000    4.425214         2.0        2.0     ...       \n",
       "1        3.0   3.000000    4.000000         4.0        6.0     ...       \n",
       "2        2.0   4.258509    4.000000         4.0        7.0     ...       \n",
       "3        4.0   2.000000    7.000000         4.0        4.0     ...       \n",
       "4        7.0   4.000000    2.000000         2.0        2.0     ...       \n",
       "\n",
       "   CAMEO_DEU_2015_8D  CAMEO_DEU_2015_9A  CAMEO_DEU_2015_9B  CAMEO_DEU_2015_9C  \\\n",
       "0                0.0                0.0                0.0                0.0   \n",
       "1                0.0                0.0                0.0                0.0   \n",
       "2                0.0                0.0                0.0                0.0   \n",
       "3                0.0                0.0                0.0                0.0   \n",
       "4                0.0                0.0                0.0                0.0   \n",
       "\n",
       "   CAMEO_DEU_2015_9D  CAMEO_DEU_2015_9E  P_J_Decode  P_J_Movement  \\\n",
       "0                0.0                0.0         6.0           1.0   \n",
       "1                0.0                0.0         6.0           0.0   \n",
       "2                0.0                0.0         4.0           1.0   \n",
       "3                0.0                0.0         4.0           1.0   \n",
       "4                0.0                0.0         2.0           0.0   \n",
       "\n",
       "   C_I_lifestage  c_i_wealth  \n",
       "0            1.0         5.0  \n",
       "1            4.0         2.0  \n",
       "2            2.0         1.0  \n",
       "3            3.0         4.0  \n",
       "4            4.0         5.0  \n",
       "\n",
       "[5 rows x 109 columns]"
      ]
     },
     "execution_count": 591,
     "metadata": {},
     "output_type": "execute_result"
    }
   ],
   "source": [
    "# Cleanup missing with mean using Imputer function\n",
    "from sklearn.preprocessing import Imputer\n",
    "subset_2_new_1=subset_2_new.copy()\n",
    "imputer = Imputer()\n",
    "subset_2_new_1 = pd.DataFrame(imputer.fit_transform(subset_2_new_1), columns = subset_2_new_1.columns)\n",
    "\n",
    "subset_2_new_1.head(5)"
   ]
  },
  {
   "cell_type": "code",
   "execution_count": 363,
   "metadata": {},
   "outputs": [
    {
     "data": {
      "text/plain": [
       "0"
      ]
     },
     "execution_count": 363,
     "metadata": {},
     "output_type": "execute_result"
    }
   ],
   "source": [
    "# check if there are any missing values \n",
    "subset_2_new_1.isnull().sum().sum()"
   ]
  },
  {
   "cell_type": "code",
   "execution_count": 364,
   "metadata": {},
   "outputs": [],
   "source": [
    "subset_2_new_1.to_csv(\"azdias_Final.csv\")"
   ]
  },
  {
   "cell_type": "code",
   "execution_count": 595,
   "metadata": {},
   "outputs": [],
   "source": [
    "# Apply feature scaling to the general population demographics data.\n",
    "df=pd.read_csv(\"azdias_Final.csv\")\n",
    "df.drop(columns=['Unnamed: 0' ],inplace=True)"
   ]
  },
  {
   "cell_type": "code",
   "execution_count": 596,
   "metadata": {},
   "outputs": [
    {
     "data": {
      "text/plain": [
       "(742042, 109)"
      ]
     },
     "execution_count": 596,
     "metadata": {},
     "output_type": "execute_result"
    }
   ],
   "source": [
    "df.shape"
   ]
  },
  {
   "cell_type": "code",
   "execution_count": 597,
   "metadata": {},
   "outputs": [],
   "source": [
    "from sklearn.preprocessing import StandardScaler\n",
    "ss = StandardScaler(with_mean=False, with_std=True)\n",
    "\n",
    "df = pd.DataFrame(ss.fit_transform(df), columns = df.columns)\n"
   ]
  },
  {
   "cell_type": "code",
   "execution_count": 594,
   "metadata": {
    "scrolled": true
   },
   "outputs": [
    {
     "data": {
      "text/plain": [
       "(742042, 109)"
      ]
     },
     "execution_count": 594,
     "metadata": {},
     "output_type": "execute_result"
    }
   ],
   "source": [
    "df.shape"
   ]
  },
  {
   "cell_type": "markdown",
   "metadata": {},
   "source": [
    "### Discussion 2.1: Apply Feature Scaling\n",
    "\n",
    "The data where missing values are noticed, the columns are evaluated to mean using implier function, and a standardscaler feature is applied."
   ]
  },
  {
   "cell_type": "markdown",
   "metadata": {},
   "source": [
    "### Step 2.2: Perform Dimensionality Reduction\n",
    "\n",
    "On your scaled data, you are now ready to apply dimensionality reduction techniques.\n",
    "\n",
    "- Use sklearn's [PCA](http://scikit-learn.org/stable/modules/generated/sklearn.decomposition.PCA.html) class to apply principal component analysis on the data, thus finding the vectors of maximal variance in the data. To start, you should not set any parameters (so all components are computed) or set a number of components that is at least half the number of features (so there's enough features to see the general trend in variability).\n",
    "- Check out the ratio of variance explained by each principal component as well as the cumulative variance explained. Try plotting the cumulative or sequential values using matplotlib's [`plot()`](https://matplotlib.org/api/_as_gen/matplotlib.pyplot.plot.html) function. Based on what you find, select a value for the number of transformed features you'll retain for the clustering part of the project.\n",
    "- Once you've made a choice for the number of components to keep, make sure you re-fit a PCA instance to perform the decided-on transformation."
   ]
  },
  {
   "cell_type": "code",
   "execution_count": 370,
   "metadata": {},
   "outputs": [],
   "source": [
    "# Apply PCA to the data.\n",
    "from sklearn.decomposition import PCA\n",
    "pca = PCA()\n",
    "df_pca = pca.fit_transform(df)"
   ]
  },
  {
   "cell_type": "code",
   "execution_count": 371,
   "metadata": {},
   "outputs": [
    {
     "data": {
      "image/png": "[encoded data removed]",
      "text/plain": [
       "<Figure size 720x432 with 1 Axes>"
      ]
     },
     "metadata": {
      "needs_background": "light"
     },
     "output_type": "display_data"
    }
   ],
   "source": [
    "# Investigate the variance accounted for by each principal component.\n",
    "Total=len(pca.explained_variance_ratio_)\n",
    "pca_values = pca.explained_variance_ratio_\n",
    "Total\n",
    "plt.figure(figsize=(10, 6))\n",
    "pca_cumvalues = np.cumsum(pca_values)\n",
    "plt.plot(np.cumsum(pca.explained_variance_ratio_))\n",
    "plt.xlabel('Numberr of components')\n",
    "plt.ylabel('Cumulative explained variance');\n",
    "plt.show()\n"
   ]
  },
  {
   "cell_type": "code",
   "execution_count": 378,
   "metadata": {},
   "outputs": [],
   "source": [
    "# Re-apply PCA to the data while selecting for number of components to retain.\n",
    "# Investigate the variance accounted for by each principal component.\n",
    "\n",
    "pca_var = PCA(n_components=65)\n",
    "df_var = pca_var.fit_transform(df) "
   ]
  },
  {
   "cell_type": "code",
   "execution_count": 379,
   "metadata": {},
   "outputs": [
    {
     "data": {
      "text/plain": [
       "0.8683438763397779"
      ]
     },
     "execution_count": 379,
     "metadata": {},
     "output_type": "execute_result"
    }
   ],
   "source": [
    "pca_var.explained_variance_ratio_.sum()"
   ]
  },
  {
   "cell_type": "markdown",
   "metadata": {},
   "source": [
    "### Discussion 2.2: Perform Dimensionality Reduction\n",
    "\n",
    "Based on the plot it is noticed that atmost 65 features are sufficient to explain 85% of the variance."
   ]
  },
  {
   "cell_type": "markdown",
   "metadata": {},
   "source": [
    "### Step 2.3: Interpret Principal Components\n",
    "\n",
    "Now that we have our transformed principal components, it's a nice idea to check out the weight of each variable on the first few components to see if they can be interpreted in some fashion.\n",
    "\n",
    "As a reminder, each principal component is a unit vector that points in the direction of highest variance (after accounting for the variance captured by earlier principal components). The further a weight is from zero, the more the principal component is in the direction of the corresponding feature. If two features have large weights of the same sign (both positive or both negative), then increases in one tend expect to be associated with increases in the other. To contrast, features with different signs can be expected to show a negative correlation: increases in one variable should result in a decrease in the other.\n",
    "\n",
    "- To investigate the features, you should map each weight to their corresponding feature name, then sort the features according to weight. The most interesting features for each principal component, then, will be those at the beginning and end of the sorted list. Use the data dictionary document to help you understand these most prominent features, their relationships, and what a positive or negative value on the principal component might indicate.\n",
    "- You should investigate and interpret feature associations from the first three principal components in this substep. To help facilitate this, you should write a function that you can call at any time to print the sorted list of feature weights, for the *i*-th principal component. This might come in handy in the next step of the project, when you interpret the tendencies of the discovered clusters."
   ]
  },
  {
   "cell_type": "code",
   "execution_count": 380,
   "metadata": {},
   "outputs": [
    {
     "name": "stdout",
     "output_type": "stream",
     "text": [
      "[('PLZ8_ANTG3', 0.22637259841627286), ('PLZ8_ANTG4', 0.21856598508935646), ('HH_EINKOMMEN_SCORE', 0.2039201570634754), ('ORTSGR_KLS9', 0.19735984855498634), ('c_i_wealth', 0.19607755329940632), ('EWDICHTE', 0.1959702106821469), ('KBA05_ANTG4', 0.15555434471535062), ('PLZ8_ANTG2', 0.15448365645328432), ('ARBEIT', 0.14341398563958574), ('ANZ_HAUSHALTE_AKTIV', 0.1380138854689974), ('KBA05_ANTG3', 0.1362623513572705), ('RELAT_AB', 0.1358788585495329), ('REGIOTYP', 0.08666770546406614), ('SEMIO_PFLICHT', 0.07782413962999445), ('CAMEO_DEU_2015_8A', 0.07428539710499377), ('GEBAEUDETYP', 0.0717118272731769), ('ZABEOTYP', 0.07010432083266062), ('CAMEO_DEU_2015_9C', 0.06731006364899374), ('CAMEO_DEU_2015_9D', 0.06686136847082604), ('SEMIO_REL', 0.06569663896542981), ('CAMEO_DEU_2015_9B', 0.06475899781751533), ('KKK', 0.06115211248787786), ('P_J_Movement', 0.059102171077699495), ('W_KEIT_KIND_HH', 0.056765873816588694), ('GFK_URLAUBERTYP', 0.05662524030141948), ('OST_WEST_KZ', 0.05199598390229816), ('CAMEO_DEU_2015_8B', 0.04885788134327508), ('P_J_Decode', 0.0478401720513442), ('SEMIO_KULT', 0.04667683779748152), ('SEMIO_SOZ', 0.043930139000151004), ('SEMIO_FAM', 0.042266794049365154), ('PLZ8_HHZ', 0.04083006595638696), ('SEMIO_RAT', 0.04073862345844572), ('CAMEO_DEU_2015_9A', 0.0402748518979538), ('CAMEO_DEU_2015_8C', 0.03891583629251814), ('ANZ_HH_TITEL', 0.0353273607174115), ('CAMEO_DEU_2015_7B', 0.03201097088418577), ('SEMIO_KAEM', 0.027045883689412457), ('CAMEO_DEU_2015_8D', 0.026637148185541557), ('SEMIO_TRADV', 0.02628855946168893), ('CJT_GESAMTTYP', 0.024209284821169352), ('RETOURTYP_BK_S', 0.022712500175293335), ('CAMEO_DEU_2015_7C', 0.020243827787588407), ('CAMEO_DEU_2015_9E', 0.019314978034057285), ('CAMEO_DEU_2015_6E', 0.017658611922034197), ('SEMIO_DOM', 0.015162418033678068), ('CAMEO_DEU_2015_7D', 0.014846931631033624), ('CAMEO_DEU_2015_7A', 0.012093359033311787), ('SEMIO_MAT', 0.010976003143423856), ('CAMEO_DEU_2015_5D', 0.010902112680055453), ('KBA05_ANTG2', 0.009101648090386823), ('SEMIO_KRIT', 0.007722030706996824), ('CAMEO_DEU_2015_6A', 0.007275194717541981), ('CAMEO_DEU_2015_6F', 0.004597089980172174), ('CAMEO_DEU_2015_7E', 0.004096182514645178), ('CAMEO_DEU_2015_6C', 0.0024526460995981394), ('CAMEO_DEU_2015_6D', 0.001693552009809926), ('CAMEO_DEU_2015_5A', -0.0007969394032194216), ('TITEL_KZ', -0.0012188030270042522), ('CAMEO_DEU_2015_5E', -0.0012540761663557788), ('SOHO_KZ', -0.0027071206350646037), ('ANZ_TITEL', -0.00355003395027838), ('CAMEO_DEU_2015_5F', -0.0069401605295370435), ('CAMEO_DEU_2015_6B', -0.010674401319692755), ('CAMEO_DEU_2015_4E', -0.012656132801157086), ('CAMEO_DEU_2015_1C', -0.01279457843968859), ('CAMEO_DEU_2015_1B', -0.013917857730304342), ('SEMIO_LUST', -0.01461899260182098), ('CAMEO_DEU_2015_4D', -0.016044535267136346), ('CAMEO_DEU_2015_1E', -0.017934388133327272), ('CAMEO_DEU_2015_5C', -0.018136061590819225), ('CAMEO_DEU_2015_5B', -0.01923077788631818), ('CAMEO_DEU_2015_1A', -0.01937587019517419), ('CAMEO_DEU_2015_4B', -0.025005553639064395), ('SEMIO_ERL', -0.02667163001486948), ('CAMEO_DEU_2015_3A', -0.028223799588393914), ('SEMIO_VERT', -0.030951775137895012), ('CAMEO_DEU_2015_3B', -0.03244207798156091), ('ALTER_HH', -0.0377522195797866), ('CAMEO_DEU_2015_3C', -0.04057437397089599), ('CAMEO_DEU_2015_2B', -0.04383224046837893), ('CAMEO_DEU_2015_1D', -0.04414415529078985), ('CAMEO_DEU_2015_2A', -0.04557442479736116), ('CAMEO_DEU_2015_3D', -0.04607159630155673), ('WOHNDAUER_2008', -0.04841442495919777), ('FINANZ_VORSORGER', -0.05016225887787751), ('CAMEO_DEU_2015_2C', -0.05444536908313605), ('CAMEO_DEU_2015_2D', -0.05550541171856509), ('CAMEO_DEU_2015_4A', -0.055615882613845063), ('CAMEO_DEU_2015_4C', -0.055983097152264454), ('MIN_GEBAEUDEJAHR', -0.06025429158032183), ('KBA13_ANZAHL_PKW', -0.07953387167625925), ('ONLINE_AFFINITAET', -0.07992286661856157), ('LP_FAMILIE_FEIN', -0.09711261275743513), ('ANZ_PERSONEN', -0.09836550356500966), ('LP_FAMILIE_GROB', -0.0983956677516316), ('GREEN_AVANTGARDE', -0.1078762206618529), ('GEBAEUDETYP_RASTER', -0.1160728592398934), ('C_I_lifestage', -0.12423260982993309), ('BALLRAUM', -0.12592302903727165), ('INNENSTADT', -0.16366821218223396), ('KONSUMNAEHE', -0.16764995013030748), ('PLZ8_GBZ', -0.168093086796678), ('LP_STATUS_GROB', -0.2198027358407576), ('KBA05_GBZ', -0.22068293304692854), ('LP_STATUS_FEIN', -0.22607247026605076), ('PLZ8_ANTG1', -0.2263506630324999), ('KBA05_ANTG1', -0.22784265936192136), ('MOBI_REGIO', -0.245394973979045)]\n",
      "[('SEMIO_LUST', 0.26998864017493923), ('SEMIO_ERL', 0.25971733494460486), ('FINANZ_VORSORGER', 0.2542441092329873), ('RETOURTYP_BK_S', 0.19320117970363226), ('W_KEIT_KIND_HH', 0.13807305385697077), ('SEMIO_KRIT', 0.12971146227796404), ('SEMIO_KAEM', 0.10974208142484718), ('WOHNDAUER_2008', 0.079880892938179), ('SEMIO_DOM', 0.051271071477526166), ('C_I_lifestage', 0.04686361505961167), ('CAMEO_DEU_2015_9E', 0.043647657098920094), ('EWDICHTE', 0.04327035065331429), ('ORTSGR_KLS9', 0.03965284346309122), ('CAMEO_DEU_2015_8D', 0.034759465120251104), ('LP_STATUS_GROB', 0.034248111755411606), ('PLZ8_ANTG3', 0.03375653616091068), ('PLZ8_ANTG4', 0.030203764782956645), ('RELAT_AB', 0.02976472888187326), ('KBA05_ANTG4', 0.028627553938849772), ('ARBEIT', 0.027127434768168365), ('ANZ_HH_TITEL', 0.026025749832997096), ('PLZ8_ANTG2', 0.02592775283359477), ('CAMEO_DEU_2015_6E', 0.025837964968002444), ('ANZ_HAUSHALTE_AKTIV', 0.024813386668564558), ('GREEN_AVANTGARDE', 0.01846602037922851), ('REGIOTYP', 0.014306661404985243), ('LP_STATUS_FEIN', 0.014277039081187368), ('CAMEO_DEU_2015_5D', 0.013087539034755657), ('CAMEO_DEU_2015_6F', 0.012347886837454932), ('CAMEO_DEU_2015_7E', 0.012295907451980035), ('TITEL_KZ', 0.011899632194940179), ('ANZ_TITEL', 0.011747882593671847), ('CAMEO_DEU_2015_8C', 0.011168018696401225), ('CAMEO_DEU_2015_7C', 0.011125790182033642), ('CAMEO_DEU_2015_7D', 0.010561918402897066), ('CAMEO_DEU_2015_3D', 0.008792397253716135), ('KBA05_ANTG3', 0.00803630067810967), ('CAMEO_DEU_2015_1D', 0.007699469362239981), ('CAMEO_DEU_2015_6D', 0.00754902151085562), ('CAMEO_DEU_2015_6C', 0.006418672565300509), ('CAMEO_DEU_2015_1E', 0.005942368801099475), ('KKK', 0.005641451069182017), ('CAMEO_DEU_2015_5F', 0.005285779169570736), ('CAMEO_DEU_2015_5E', 0.00520797760657395), ('OST_WEST_KZ', 0.005145273401398546), ('CAMEO_DEU_2015_1C', 0.0050962021011622385), ('CAMEO_DEU_2015_2D', 0.00495623724190413), ('CAMEO_DEU_2015_4E', 0.004836582375643315), ('PLZ8_HHZ', 0.004451802646624347), ('CAMEO_DEU_2015_1B', 0.0031250137899560683), ('CAMEO_DEU_2015_1A', 0.002306333428692811), ('CAMEO_DEU_2015_4D', 0.001508744091632957), ('CAMEO_DEU_2015_7B', 0.0004667828942160342), ('CAMEO_DEU_2015_9D', -0.00019143430116632868), ('CAMEO_DEU_2015_8B', -0.0005651840808324554), ('SOHO_KZ', -0.0014163477753557309), ('CAMEO_DEU_2015_8A', -0.001656813468500229), ('HH_EINKOMMEN_SCORE', -0.0017575583802201054), ('GEBAEUDETYP', -0.00302286405351706), ('CAMEO_DEU_2015_6A', -0.0034482522934874745), ('CAMEO_DEU_2015_2C', -0.004417417469777553), ('CAMEO_DEU_2015_6B', -0.005802635569454052), ('CAMEO_DEU_2015_2B', -0.005818434934582068), ('CAMEO_DEU_2015_5A', -0.005818457677989544), ('CAMEO_DEU_2015_3C', -0.005905437446958911), ('CAMEO_DEU_2015_4C', -0.008035819536785612), ('c_i_wealth', -0.008924621251129845), ('CAMEO_DEU_2015_4B', -0.009079095835265711), ('KBA05_ANTG2', -0.009484937976941173), ('CAMEO_DEU_2015_9C', -0.009928823919233859), ('CAMEO_DEU_2015_3A', -0.01016692615791385), ('CAMEO_DEU_2015_5B', -0.010918483186933697), ('CAMEO_DEU_2015_7A', -0.011306510082139353), ('CAMEO_DEU_2015_5C', -0.01168237850857255), ('CAMEO_DEU_2015_9B', -0.012357574267918458), ('CAMEO_DEU_2015_3B', -0.01258769558104504), ('KBA13_ANZAHL_PKW', -0.012979462173959741), ('GEBAEUDETYP_RASTER', -0.014164572636212716), ('CAMEO_DEU_2015_2A', -0.014957917724076918), ('CAMEO_DEU_2015_9A', -0.017717018946931753), ('KBA05_ANTG1', -0.020882865529914838), ('CAMEO_DEU_2015_4A', -0.02272573811205131), ('PLZ8_GBZ', -0.024867664395875788), ('MOBI_REGIO', -0.026840035777527697), ('KONSUMNAEHE', -0.027327059239036264), ('BALLRAUM', -0.03005832598671082), ('PLZ8_ANTG1', -0.03074822954824957), ('MIN_GEBAEUDEJAHR', -0.03129751711575465), ('KBA05_GBZ', -0.03176028938448692), ('INNENSTADT', -0.03386164043842396), ('GFK_URLAUBERTYP', -0.06147382023230057), ('ANZ_PERSONEN', -0.08212598912748197), ('LP_FAMILIE_FEIN', -0.09027654036469275), ('LP_FAMILIE_GROB', -0.09089021897733415), ('SEMIO_VERT', -0.10524165727609702), ('ALTER_HH', -0.1306626119974337), ('P_J_Movement', -0.13239700248080458), ('SEMIO_SOZ', -0.14966928370807062), ('CJT_GESAMTTYP', -0.16190688175423043), ('ZABEOTYP', -0.17150216848033678), ('SEMIO_MAT', -0.19050342138689028), ('ONLINE_AFFINITAET', -0.19811803449532606), ('SEMIO_RAT', -0.2159542206007663), ('SEMIO_KULT', -0.2166321689822121), ('SEMIO_FAM', -0.21701471888600868), ('SEMIO_TRADV', -0.24907242528359738), ('SEMIO_PFLICHT', -0.2760427381287377), ('SEMIO_REL', -0.28135730337447684), ('P_J_Decode', -0.294446332219255)]\n",
      "[('SEMIO_KAEM', 0.38705863216524405), ('SEMIO_DOM', 0.3738201801769386), ('SEMIO_KRIT', 0.28685656898941725), ('SEMIO_RAT', 0.2477363739966097), ('P_J_Decode', 0.14572607882345953), ('SEMIO_ERL', 0.145061722093486), ('SEMIO_TRADV', 0.12236324058885596), ('SEMIO_PFLICHT', 0.11066493622545646), ('ONLINE_AFFINITAET', 0.09839469835922243), ('P_J_Movement', 0.08758007333906799), ('CJT_GESAMTTYP', 0.07675728697471638), ('ALTER_HH', 0.06615093579676742), ('LP_FAMILIE_GROB', 0.05952687701015019), ('LP_FAMILIE_FEIN', 0.0565894155857193), ('ANZ_PERSONEN', 0.04179092133786764), ('GFK_URLAUBERTYP', 0.03910154739906771), ('HH_EINKOMMEN_SCORE', 0.0303535982232838), ('PLZ8_GBZ', 0.021085204458367753), ('KBA13_ANZAHL_PKW', 0.017934662384408617), ('PLZ8_ANTG1', 0.017789433116995768), ('CAMEO_DEU_2015_9A', 0.015866574778823698), ('GEBAEUDETYP_RASTER', 0.013598005690114686), ('CAMEO_DEU_2015_7A', 0.012943983511921836), ('CAMEO_DEU_2015_4C', 0.012367127225223373), ('KBA05_ANTG2', 0.012270997430964135), ('KONSUMNAEHE', 0.01029909169383513), ('CAMEO_DEU_2015_4A', 0.010103682124629181), ('SEMIO_REL', 0.009505948116695417), ('PLZ8_HHZ', 0.009326582239433587), ('INNENSTADT', 0.008560367394766549), ('CAMEO_DEU_2015_5C', 0.007798927532185374), ('MOBI_REGIO', 0.0066437129895457235), ('ZABEOTYP', 0.0063855003922000724), ('CAMEO_DEU_2015_2A', 0.0063202449527010466), ('CAMEO_DEU_2015_3A', 0.006072118200657303), ('CAMEO_DEU_2015_3B', 0.0056752037834509285), ('CAMEO_DEU_2015_5A', 0.00555439139399342), ('CAMEO_DEU_2015_4B', 0.004747042312755688), ('CAMEO_DEU_2015_5B', 0.004521291596020851), ('KBA05_ANTG1', 0.004300236281818934), ('CAMEO_DEU_2015_8C', 0.004240324405934022), ('KBA05_GBZ', 0.0041817402846827945), ('CAMEO_DEU_2015_6B', 0.003288040374529811), ('KBA05_ANTG3', 0.003025488750893123), ('CAMEO_DEU_2015_6A', 0.0027274442414998022), ('GEBAEUDETYP', 0.0022646868150256985), ('CAMEO_DEU_2015_3C', 0.002127218830173662), ('CAMEO_DEU_2015_1B', 0.0019282927992091009), ('CAMEO_DEU_2015_1A', 0.0013972871105504504), ('CAMEO_DEU_2015_8A', 0.0009473088389068727), ('CAMEO_DEU_2015_6C', 0.0005680384904113503), ('MIN_GEBAEUDEJAHR', 0.0005587498245106741), ('CAMEO_DEU_2015_5E', 0.00046381701039667326), ('SOHO_KZ', 0.0004279896336480644), ('CAMEO_DEU_2015_4D', -2.9009410707762656e-05), ('BALLRAUM', -9.607978641402464e-05), ('CAMEO_DEU_2015_2D', -0.0002858698852796223), ('CAMEO_DEU_2015_2C', -0.0008690931780593793), ('CAMEO_DEU_2015_4E', -0.0010120240650609738), ('EWDICHTE', -0.0011840816650369333), ('CAMEO_DEU_2015_1C', -0.0012652671552360769), ('CAMEO_DEU_2015_5F', -0.0013088377421807303), ('CAMEO_DEU_2015_2B', -0.0013593515910459073), ('CAMEO_DEU_2015_6D', -0.0020415389831892456), ('ORTSGR_KLS9', -0.002453800346227208), ('CAMEO_DEU_2015_7D', -0.0029583324970695463), ('CAMEO_DEU_2015_1E', -0.0033493167706460654), ('CAMEO_DEU_2015_7B', -0.0033693166877477405), ('CAMEO_DEU_2015_7C', -0.0038914518475362805), ('PLZ8_ANTG2', -0.0039653957328748286), ('KKK', -0.00428572122723092), ('c_i_wealth', -0.004407818154182899), ('CAMEO_DEU_2015_6F', -0.004999608072945846), ('CAMEO_DEU_2015_1D', -0.005435836276921439), ('CAMEO_DEU_2015_5D', -0.005598539631371231), ('CAMEO_DEU_2015_9E', -0.005846867473518987), ('CAMEO_DEU_2015_9B', -0.006261285946855619), ('CAMEO_DEU_2015_8B', -0.0062781163211503765), ('C_I_lifestage', -0.006678318042887664), ('CAMEO_DEU_2015_7E', -0.007124090623849315), ('RELAT_AB', -0.0072245488667848174), ('CAMEO_DEU_2015_3D', -0.0072508700791794585), ('CAMEO_DEU_2015_9D', -0.00730551378602052), ('CAMEO_DEU_2015_6E', -0.009667018951297261), ('REGIOTYP', -0.010315855465397298), ('ANZ_HH_TITEL', -0.010876909689983403), ('ANZ_HAUSHALTE_AKTIV', -0.01106019283458576), ('KBA05_ANTG4', -0.011795465576060178), ('CAMEO_DEU_2015_8D', -0.012334675420301512), ('PLZ8_ANTG3', -0.01247339117307635), ('ANZ_TITEL', -0.013115958001356395), ('PLZ8_ANTG4', -0.014719908474736056), ('TITEL_KZ', -0.015796775888589895), ('ARBEIT', -0.017294447267589493), ('CAMEO_DEU_2015_9C', -0.018966714940531572), ('OST_WEST_KZ', -0.026192938048406323), ('WOHNDAUER_2008', -0.04426995435060266), ('LP_STATUS_FEIN', -0.04560991510207712), ('GREEN_AVANTGARDE', -0.04685148806115591), ('LP_STATUS_GROB', -0.06108097522284604), ('SEMIO_MAT', -0.09080046429977764), ('SEMIO_LUST', -0.09489021986479482), ('FINANZ_VORSORGER', -0.13048536792710702), ('RETOURTYP_BK_S', -0.13671983488697853), ('W_KEIT_KIND_HH', -0.14309622409558723), ('SEMIO_KULT', -0.24931318752306864), ('SEMIO_FAM', -0.2722947209872089), ('SEMIO_SOZ', -0.2821809751007309), ('SEMIO_VERT', -0.3912392173033969)]\n",
      "[('LP_FAMILIE_GROB', 0.3092147023945968), ('LP_FAMILIE_FEIN', 0.3074301165757106), ('ANZ_PERSONEN', 0.29379425936291687), ('GREEN_AVANTGARDE', 0.2875255780812167), ('EWDICHTE', 0.24775016390848315), ('ORTSGR_KLS9', 0.24741877497007383), ('ONLINE_AFFINITAET', 0.19342529493195945), ('LP_STATUS_GROB', 0.13946538410524273), ('PLZ8_ANTG4', 0.1331922499351374), ('PLZ8_ANTG3', 0.13015596163246895), ('ALTER_HH', 0.12589384186025154), ('LP_STATUS_FEIN', 0.11579447553849269), ('RELAT_AB', 0.11331793671860901), ('ARBEIT', 0.10308445867848842), ('PLZ8_ANTG2', 0.08498837009596218), ('WOHNDAUER_2008', 0.07916234533334886), ('CAMEO_DEU_2015_1D', 0.07690669770207591), ('CAMEO_DEU_2015_5D', 0.07093774714226238), ('CJT_GESAMTTYP', 0.0689214990315039), ('CAMEO_DEU_2015_2D', 0.06828120579524882), ('SEMIO_VERT', 0.0678671102430389), ('CAMEO_DEU_2015_1E', 0.05997592547074862), ('ANZ_TITEL', 0.05908649285687251), ('PLZ8_HHZ', 0.05483099166182431), ('ANZ_HH_TITEL', 0.050927408797110975), ('C_I_lifestage', 0.04973944382127674), ('KBA05_ANTG1', 0.049276349601351285), ('SEMIO_KAEM', 0.04721730660196103), ('SEMIO_DOM', 0.04376553132243675), ('CAMEO_DEU_2015_1C', 0.04118514226383588), ('TITEL_KZ', 0.04059234995625778), ('CAMEO_DEU_2015_2A', 0.03846437066455408), ('SEMIO_SOZ', 0.03839790823739714), ('CAMEO_DEU_2015_1A', 0.036722298740752855), ('KBA05_ANTG4', 0.03226994363497468), ('CAMEO_DEU_2015_8B', 0.03194120102701558), ('RETOURTYP_BK_S', 0.02775917115308152), ('CAMEO_DEU_2015_2C', 0.024364233377124827), ('CAMEO_DEU_2015_1B', 0.022360851240718474), ('MOBI_REGIO', 0.02110568210812699), ('SEMIO_LUST', 0.019392096912743358), ('FINANZ_VORSORGER', 0.017692852860104358), ('ANZ_HAUSHALTE_AKTIV', 0.016977002537709663), ('CAMEO_DEU_2015_4D', 0.016718902916719732), ('CAMEO_DEU_2015_4E', 0.010474936586437918), ('SEMIO_FAM', 0.010195721187653106), ('CAMEO_DEU_2015_6E', 0.009897886035357921), ('CAMEO_DEU_2015_5A', 0.009580632669816886), ('CAMEO_DEU_2015_5E', 0.009548402424864284), ('GEBAEUDETYP', 0.009272441705864214), ('CAMEO_DEU_2015_5F', 0.008679286439992558), ('CAMEO_DEU_2015_9C', 0.008610381863959224), ('CAMEO_DEU_2015_3A', 0.008213608463580572), ('SOHO_KZ', 0.005968961610719458), ('CAMEO_DEU_2015_6D', 0.0021484306541584273), ('KBA05_GBZ', 0.0020552215901350566), ('CAMEO_DEU_2015_9E', -0.0004697009080583709), ('CAMEO_DEU_2015_2B', -0.0009109653589534803), ('CAMEO_DEU_2015_6A', -0.0017945892706969608), ('CAMEO_DEU_2015_7C', -0.002122710058984062), ('CAMEO_DEU_2015_6F', -0.002461844446898226), ('CAMEO_DEU_2015_7E', -0.002616818881419189), ('CAMEO_DEU_2015_7D', -0.002676176148692916), ('CAMEO_DEU_2015_6C', -0.0036588704051166623), ('CAMEO_DEU_2015_7B', -0.00568003333229957), ('CAMEO_DEU_2015_9A', -0.0065949715882259625), ('CAMEO_DEU_2015_3B', -0.007809242130739509), ('CAMEO_DEU_2015_9B', -0.008448732572360913), ('CAMEO_DEU_2015_8D', -0.009148197403189486), ('OST_WEST_KZ', -0.009181917683585884), ('CAMEO_DEU_2015_3D', -0.01031401777978002), ('CAMEO_DEU_2015_4B', -0.01349205712684683), ('CAMEO_DEU_2015_3C', -0.015693126159825193), ('MIN_GEBAEUDEJAHR', -0.016133648497200347), ('CAMEO_DEU_2015_9D', -0.016615048527062862), ('P_J_Decode', -0.0172891278866687), ('SEMIO_RAT', -0.018207589500966147), ('SEMIO_ERL', -0.019218094394132308), ('CAMEO_DEU_2015_4C', -0.02166425023730152), ('CAMEO_DEU_2015_8A', -0.022391987555075113), ('SEMIO_TRADV', -0.02242214772852572), ('CAMEO_DEU_2015_8C', -0.02394084206666731), ('CAMEO_DEU_2015_5B', -0.025449094021100127), ('SEMIO_KULT', -0.02898502882848728), ('SEMIO_REL', -0.02936616947979309), ('CAMEO_DEU_2015_7A', -0.030061329261134473), ('SEMIO_MAT', -0.03008535539609819), ('CAMEO_DEU_2015_5C', -0.031398348227130064), ('SEMIO_KRIT', -0.037302669248160565), ('KBA13_ANZAHL_PKW', -0.043268194492194), ('SEMIO_PFLICHT', -0.0473682323695108), ('KBA05_ANTG3', -0.05094205600906715), ('CAMEO_DEU_2015_4A', -0.05338828296043735), ('CAMEO_DEU_2015_6B', -0.05423475930766788), ('GFK_URLAUBERTYP', -0.056189965166015085), ('KBA05_ANTG2', -0.05728295835846756), ('ZABEOTYP', -0.07317872364513268), ('c_i_wealth', -0.0762138809693965), ('PLZ8_GBZ', -0.07759590502714986), ('GEBAEUDETYP_RASTER', -0.0848310851502657), ('PLZ8_ANTG1', -0.10196764396085306), ('REGIOTYP', -0.10255010220333187), ('KONSUMNAEHE', -0.12761079548305324), ('P_J_Movement', -0.13136441411678831), ('KKK', -0.13621314898263215), ('W_KEIT_KIND_HH', -0.15752652383138951), ('HH_EINKOMMEN_SCORE', -0.2161550357139406), ('BALLRAUM', -0.22420677226521432), ('INNENSTADT', -0.22473169641937185)]\n"
     ]
    }
   ],
   "source": [
    "def comp_analysis(df):\n",
    "    feature_map = pd.Series(df.columns, range(len(df.columns)))\n",
    "    components = {}\n",
    "    for ix in range(0,4):        \n",
    "        components[ix] = [(feature_map[a],b) for a,b in sorted(enumerate(pca_var.components_[ix]),key=lambda x:x[1],reverse=True)]\n",
    "        print(components[ix])\n",
    "    return pd.DataFrame(components)\n",
    "df_var_new=comp_analysis(df);"
   ]
  },
  {
   "cell_type": "code",
   "execution_count": 381,
   "metadata": {},
   "outputs": [
    {
     "data": {
      "text/plain": [
       "0           (PLZ8_ANTG3, 0.22637259841627286)\n",
       "1           (PLZ8_ANTG4, 0.21856598508935646)\n",
       "2    (HH_EINKOMMEN_SCORE, 0.2039201570634754)\n",
       "3          (ORTSGR_KLS9, 0.19735984855498634)\n",
       "4           (c_i_wealth, 0.19607755329940632)\n",
       "Name: 0, dtype: object"
      ]
     },
     "execution_count": 381,
     "metadata": {},
     "output_type": "execute_result"
    }
   ],
   "source": [
    "# Map weights for the first principal component to corresponding feature names\n",
    "# and then print the linked values, sorted by weight.\n",
    "# HINT: Try defining a function here or in a new cell that you can reuse in the other cells.\n",
    "df_var_new[0:5][0]"
   ]
  },
  {
   "cell_type": "code",
   "execution_count": 382,
   "metadata": {},
   "outputs": [
    {
     "data": {
      "text/plain": [
       "0         (SEMIO_LUST, 0.26998864017493923)\n",
       "1          (SEMIO_ERL, 0.25971733494460486)\n",
       "2    (FINANZ_VORSORGER, 0.2542441092329873)\n",
       "3     (RETOURTYP_BK_S, 0.19320117970363226)\n",
       "4     (W_KEIT_KIND_HH, 0.13807305385697077)\n",
       "Name: 1, dtype: object"
      ]
     },
     "execution_count": 382,
     "metadata": {},
     "output_type": "execute_result"
    }
   ],
   "source": [
    "# Map weights for the second principal component to corresponding feature names\n",
    "# and then print the linked values, sorted by weight.\n",
    "\n",
    "df_var_new[0:5][1]"
   ]
  },
  {
   "cell_type": "code",
   "execution_count": 383,
   "metadata": {},
   "outputs": [
    {
     "data": {
      "text/plain": [
       "0    (SEMIO_KAEM, 0.38705863216524405)\n",
       "1      (SEMIO_DOM, 0.3738201801769386)\n",
       "2    (SEMIO_KRIT, 0.28685656898941725)\n",
       "3      (SEMIO_RAT, 0.2477363739966097)\n",
       "4    (P_J_Decode, 0.14572607882345953)\n",
       "Name: 2, dtype: object"
      ]
     },
     "execution_count": 383,
     "metadata": {},
     "output_type": "execute_result"
    }
   ],
   "source": [
    "# Map weights for the third principal component to corresponding feature names\n",
    "# and then print the linked values, sorted by weight.\n",
    "\n",
    "df_var_new[0:5][2]"
   ]
  },
  {
   "cell_type": "markdown",
   "metadata": {},
   "source": [
    "### Discussion 2.3: Interpret Principal Components\n",
    "#### The Key components identified under the First Principal Components are \n",
    "    # LP_STATUS_GROB_1.0 - Social status\n",
    "    # FINANZ_SPARER - Financial typology\n",
    "    # HH_EINKOMMEN_SCORE - Estimated household net income\n",
    "    # PLZ8_ANTG3 - Number of 6-10 family houses in the PLZ8 region\n",
    "    # PLZ8_ANTG4 - Number of 10+ family houses in the PLZ8 region\n",
    "    \n",
    "#### The Key components identified under the Second Principal Components are \n",
    "    # ZABEOTYP_3 - Energy consumption typology\n",
    "    # FINANZ_VORSORGER - Financial typology\n",
    "    # ALTERSKATEGORIE_GROB - Estimated age \n",
    "    # SEMIO_ERL - Personality typology\n",
    "    # RETOURTYP_BK_S - Shopper Return type\n",
    "\n",
    "#### The Key components identified under the Third Principal Components are\n",
    "    # SEMIO_VERT - dreamful Personality typology\n",
    "    # SEMIO_SOZ - socially-minded Personality typology\n",
    "    # SEMIO_FAM - family-minded Personality typology\n",
    "    # SEMIO_KULT - cultural-minded Personality typology\n",
    "    # SHOPPER_TYP_0 - Shopper typology"
   ]
  },
  {
   "cell_type": "markdown",
   "metadata": {},
   "source": [
    "## Step 3: Clustering\n",
    "\n",
    "### Step 3.1: Apply Clustering to General Population\n",
    "\n",
    "You've assessed and cleaned the demographics data, then scaled and transformed them. Now, it's time to see how the data clusters in the principal components space. In this substep, you will apply k-means clustering to the dataset and use the average within-cluster distances from each point to their assigned cluster's centroid to decide on a number of clusters to keep.\n",
    "\n",
    "- Use sklearn's [KMeans](http://scikit-learn.org/stable/modules/generated/sklearn.cluster.KMeans.html#sklearn.cluster.KMeans) class to perform k-means clustering on the PCA-transformed data.\n",
    "- Then, compute the average difference from each point to its assigned cluster's center. **Hint**: The KMeans object's `.score()` method might be useful here, but note that in sklearn, scores tend to be defined so that larger is better. Try applying it to a small, toy dataset, or use an internet search to help your understanding.\n",
    "- Perform the above two steps for a number of different cluster counts. You can then see how the average distance decreases with an increasing number of clusters. However, each additional cluster provides a smaller net benefit. Use this fact to select a final number of clusters in which to group the data. **Warning**: because of the large size of the dataset, it can take a long time for the algorithm to resolve. The more clusters to fit, the longer the algorithm will take. You should test for cluster counts through at least 10 clusters to get the full picture, but you shouldn't need to test for a number of clusters above about 30.\n",
    "- Once you've selected a final number of clusters to use, re-fit a KMeans instance to perform the clustering operation. Make sure that you also obtain the cluster assignments for the general demographics data, since you'll be using them in the final Step 3.3."
   ]
  },
  {
   "cell_type": "code",
   "execution_count": 384,
   "metadata": {
    "scrolled": true
   },
   "outputs": [],
   "source": [
    "# Over a number of different cluster counts...\n",
    "from sklearn.cluster import KMeans \n",
    "\n",
    "score=[]\n",
    "# run k-means clustering on the data and...\n",
    "for i in list(range(1,20)):\n",
    "    kmeans = KMeans(n_clusters = i)\n",
    "    model = kmeans.fit(df_var)\n",
    "    score.append(model.score(df_var))\n",
    "# compute the average within-cluster distances.\n",
    "    "
   ]
  },
  {
   "cell_type": "code",
   "execution_count": 385,
   "metadata": {
    "scrolled": true
   },
   "outputs": [
    {
     "data": {
      "image/png": "[encoded data removed]",
      "text/plain": [
       "<Figure size 432x288 with 1 Axes>"
      ]
     },
     "metadata": {
      "needs_background": "light"
     },
     "output_type": "display_data"
    }
   ],
   "source": [
    "# Investigate the change in within-cluster distance across number of clusters.\n",
    "# HINT: Use matplotlib's plot function to visualize this relationship.\n",
    "\n",
    "plt.plot(list(range(1,20)), score, marker='X' );\n",
    "plt.xlabel('K');\n",
    "plt.ylabel('Score');\n",
    "plt.title('Score vs. Number of clusters');"
   ]
  },
  {
   "cell_type": "code",
   "execution_count": 390,
   "metadata": {},
   "outputs": [],
   "source": [
    "# Re-fit the k-means model with the selected number of clusters and obtain\n",
    "# cluster predictions for the general population demographics data.\n",
    "kmeans = KMeans(n_clusters = 10)\n",
    "model = kmeans.fit(df_var)\n",
    "score_new=model.predict(df_var)"
   ]
  },
  {
   "cell_type": "code",
   "execution_count": 401,
   "metadata": {},
   "outputs": [
    {
     "data": {
      "text/plain": [
       "742042"
      ]
     },
     "execution_count": 401,
     "metadata": {},
     "output_type": "execute_result"
    }
   ],
   "source": [
    "score_new"
   ]
  },
  {
   "cell_type": "markdown",
   "metadata": {},
   "source": [
    "### Discussion 3.1: Apply Clustering to General Population\n",
    "\n",
    "From the plot it is noted that K=14 is the elbow."
   ]
  },
  {
   "cell_type": "markdown",
   "metadata": {},
   "source": [
    "### Step 3.2: Apply All Steps to the Customer Data\n",
    "\n",
    "Now that you have clusters and cluster centers for the general population, it's time to see how the customer data maps on to those clusters. Take care to not confuse this for re-fitting all of the models to the customer data. Instead, you're going to use the fits from the general population to clean, transform, and cluster the customer data. In the last step of the project, you will interpret how the general population fits apply to the customer data.\n",
    "\n",
    "- Don't forget when loading in the customers data, that it is semicolon (`;`) delimited.\n",
    "- Apply the same feature wrangling, selection, and engineering steps to the customer demographics using the `clean_data()` function you created earlier. (You can assume that the customer demographics data has similar meaning behind missing data patterns as the general demographics data.)\n",
    "- Use the sklearn objects from the general demographics data, and apply their transformations to the customers data. That is, you should not be using a `.fit()` or `.fit_transform()` method to re-fit the old objects, nor should you be creating new sklearn objects! Carry the data through the feature scaling, PCA, and clustering steps, obtaining cluster assignments for all of the data in the customer demographics data."
   ]
  },
  {
   "cell_type": "code",
   "execution_count": 536,
   "metadata": {
    "scrolled": true
   },
   "outputs": [
    {
     "data": {
      "text/html": [
       "<div>\n",
       "<style scoped>\n",
       "    .dataframe tbody tr th:only-of-type {\n",
       "        vertical-align: middle;\n",
       "    }\n",
       "\n",
       "    .dataframe tbody tr th {\n",
       "        vertical-align: top;\n",
       "    }\n",
       "\n",
       "    .dataframe thead th {\n",
       "        text-align: right;\n",
       "    }\n",
       "</style>\n",
       "<table border=\"1\" class=\"dataframe\">\n",
       "  <thead>\n",
       "    <tr style=\"text-align: right;\">\n",
       "      <th></th>\n",
       "      <th>AGER_TYP</th>\n",
       "      <th>ALTERSKATEGORIE_GROB</th>\n",
       "      <th>ANREDE_KZ</th>\n",
       "      <th>CJT_GESAMTTYP</th>\n",
       "      <th>FINANZ_MINIMALIST</th>\n",
       "      <th>FINANZ_SPARER</th>\n",
       "      <th>FINANZ_VORSORGER</th>\n",
       "      <th>FINANZ_ANLEGER</th>\n",
       "      <th>FINANZ_UNAUFFAELLIGER</th>\n",
       "      <th>FINANZ_HAUSBAUER</th>\n",
       "      <th>...</th>\n",
       "      <th>PLZ8_ANTG1</th>\n",
       "      <th>PLZ8_ANTG2</th>\n",
       "      <th>PLZ8_ANTG3</th>\n",
       "      <th>PLZ8_ANTG4</th>\n",
       "      <th>PLZ8_BAUMAX</th>\n",
       "      <th>PLZ8_HHZ</th>\n",
       "      <th>PLZ8_GBZ</th>\n",
       "      <th>ARBEIT</th>\n",
       "      <th>ORTSGR_KLS9</th>\n",
       "      <th>RELAT_AB</th>\n",
       "    </tr>\n",
       "  </thead>\n",
       "  <tbody>\n",
       "    <tr>\n",
       "      <th>0</th>\n",
       "      <td>2</td>\n",
       "      <td>4</td>\n",
       "      <td>1</td>\n",
       "      <td>5.0</td>\n",
       "      <td>5</td>\n",
       "      <td>1</td>\n",
       "      <td>5</td>\n",
       "      <td>1</td>\n",
       "      <td>2</td>\n",
       "      <td>2</td>\n",
       "      <td>...</td>\n",
       "      <td>3.0</td>\n",
       "      <td>3.0</td>\n",
       "      <td>1.0</td>\n",
       "      <td>0.0</td>\n",
       "      <td>1.0</td>\n",
       "      <td>5.0</td>\n",
       "      <td>5.0</td>\n",
       "      <td>1.0</td>\n",
       "      <td>2.0</td>\n",
       "      <td>1.0</td>\n",
       "    </tr>\n",
       "    <tr>\n",
       "      <th>1</th>\n",
       "      <td>-1</td>\n",
       "      <td>4</td>\n",
       "      <td>1</td>\n",
       "      <td>NaN</td>\n",
       "      <td>5</td>\n",
       "      <td>1</td>\n",
       "      <td>5</td>\n",
       "      <td>1</td>\n",
       "      <td>3</td>\n",
       "      <td>2</td>\n",
       "      <td>...</td>\n",
       "      <td>NaN</td>\n",
       "      <td>NaN</td>\n",
       "      <td>NaN</td>\n",
       "      <td>NaN</td>\n",
       "      <td>NaN</td>\n",
       "      <td>NaN</td>\n",
       "      <td>NaN</td>\n",
       "      <td>NaN</td>\n",
       "      <td>NaN</td>\n",
       "      <td>NaN</td>\n",
       "    </tr>\n",
       "  </tbody>\n",
       "</table>\n",
       "<p>2 rows × 85 columns</p>\n",
       "</div>"
      ],
      "text/plain": [
       "   AGER_TYP  ALTERSKATEGORIE_GROB  ANREDE_KZ  CJT_GESAMTTYP  \\\n",
       "0         2                     4          1            5.0   \n",
       "1        -1                     4          1            NaN   \n",
       "\n",
       "   FINANZ_MINIMALIST  FINANZ_SPARER  FINANZ_VORSORGER  FINANZ_ANLEGER  \\\n",
       "0                  5              1                 5               1   \n",
       "1                  5              1                 5               1   \n",
       "\n",
       "   FINANZ_UNAUFFAELLIGER  FINANZ_HAUSBAUER    ...     PLZ8_ANTG1  PLZ8_ANTG2  \\\n",
       "0                      2                 2    ...            3.0         3.0   \n",
       "1                      3                 2    ...            NaN         NaN   \n",
       "\n",
       "   PLZ8_ANTG3  PLZ8_ANTG4  PLZ8_BAUMAX  PLZ8_HHZ  PLZ8_GBZ  ARBEIT  \\\n",
       "0         1.0         0.0          1.0       5.0       5.0     1.0   \n",
       "1         NaN         NaN          NaN       NaN       NaN     NaN   \n",
       "\n",
       "   ORTSGR_KLS9  RELAT_AB  \n",
       "0          2.0       1.0  \n",
       "1          NaN       NaN  \n",
       "\n",
       "[2 rows x 85 columns]"
      ]
     },
     "execution_count": 536,
     "metadata": {},
     "output_type": "execute_result"
    }
   ],
   "source": [
    "# Load in the customer demographics data.\n",
    "customers = pd.read_csv ('Udacity_CUSTOMERS_Subset.csv', sep = ';')\n",
    "\n",
    "customers.head (n=2)\n",
    "#customers=customers.sample(n=20000, random_state=1)"
   ]
  },
  {
   "cell_type": "code",
   "execution_count": 537,
   "metadata": {},
   "outputs": [],
   "source": [
    "# Apply preprocessing, feature transformation, and clustering from the general\n",
    "# demographics onto the customer data, obtaining cluster predictions for the\n",
    "# customer demographics data.\n",
    "cust_df=clean_data(customers)"
   ]
  },
  {
   "cell_type": "code",
   "execution_count": 538,
   "metadata": {},
   "outputs": [],
   "source": [
    "cust_df.to_csv(\"customer.csv\")"
   ]
  },
  {
   "cell_type": "code",
   "execution_count": 566,
   "metadata": {},
   "outputs": [],
   "source": [
    "cust_df_1=pd.read_csv(\"customer.csv\")\n",
    "\n",
    "cust_df_1.drop(columns=['Unnamed: 0'],inplace=True);\n",
    "cust_df_1.reset_index(drop=True,inplace=True)\n"
   ]
  },
  {
   "cell_type": "code",
   "execution_count": 540,
   "metadata": {},
   "outputs": [
    {
     "data": {
      "text/plain": [
       "(191652, 90)"
      ]
     },
     "execution_count": 540,
     "metadata": {},
     "output_type": "execute_result"
    }
   ],
   "source": [
    "cust_df_1.shape"
   ]
  },
  {
   "cell_type": "code",
   "execution_count": 567,
   "metadata": {},
   "outputs": [],
   "source": [
    "multi_lvl_cols_1=multi_lvl_cols.copy()\n",
    "#multi_lvl_cols_1.append('CAMEO_DEU_2015')\n",
    "#multi_lvl_cols_1.append('CAMEO_DEUG_2015')\n",
    "\n",
    "cust_df_1['CAMEO_DEUG_2015'].apply(lambda X:'X' if np.isnan(X) else X)\n",
    "cust_df_1.astype({'CAMEO_DEUG_2015': object})\n",
    "cust_df_1['CAMEO_DEUG_2015']=cust_df_1['CAMEO_DEUG_2015'].apply(lambda X:'X' if np.isnan(X) else str(X))\n",
    "cust_df_1['CAMEO_DEUG_2015']=cust_df_1['CAMEO_DEUG_2015'].apply(lambda X:X if len(X)==1 else X.split(\".\")[0])\n",
    "multi_cats_df=cust_df_1[multi_lvl_cols_1]\n",
    "\n",
    "multi_cats_encoded = pd.get_dummies(multi_cats_df)\n",
    "cust_df_1.drop(multi_lvl_cols_1,axis=1,inplace=True)\n",
    "cust_df_1.reset_index(inplace=True,drop=True)\n",
    "multi_cats_encoded.reset_index(inplace=True,drop=True)\n",
    "cust_df_new=pd.concat([cust_df_1,multi_cats_encoded], axis=1)"
   ]
  },
  {
   "cell_type": "code",
   "execution_count": 569,
   "metadata": {},
   "outputs": [],
   "source": [
    "cust_df_new.to_csv(\"customer_clean.csv\")"
   ]
  },
  {
   "cell_type": "code",
   "execution_count": 609,
   "metadata": {},
   "outputs": [],
   "source": [
    "cust_df_new=pd.read_csv(\"customer_clean.csv\")"
   ]
  },
  {
   "cell_type": "code",
   "execution_count": 610,
   "metadata": {},
   "outputs": [],
   "source": [
    "mixed_colum = ['LP_LEBENSPHASE_FEIN','LP_LEBENSPHASE_GROB','PRAEGENDE_JUGENDJAHRE','KK_KUNDENTYP','WOHNLAGE','CAMEO_INTL_2015','KBA05_BAUMAX','PLZ8_BAUMAX','P_J_Decade']\n",
    "for col in mixed_colum:\n",
    "    cust_df_new.drop(col, axis=1, inplace=True)\n",
    "#cust_df_new.reset_index(drop=True,inplace=True)"
   ]
  },
  {
   "cell_type": "code",
   "execution_count": 611,
   "metadata": {},
   "outputs": [],
   "source": [
    "cust_df_new['CAMEO_DEU_2015_XX']=0\n",
    "cust_df_new['CAMEO_DEUG_2015_1']=0"
   ]
  },
  {
   "cell_type": "code",
   "execution_count": 612,
   "metadata": {},
   "outputs": [],
   "source": [
    "col=df.columns\n",
    "cust_df_new_v1=cust_df_new[cust_df_new.columns[cust_df_new.columns.isin(col)]]"
   ]
  },
  {
   "cell_type": "code",
   "execution_count": 613,
   "metadata": {},
   "outputs": [
    {
     "data": {
      "text/plain": [
       "(191652, 109)"
      ]
     },
     "execution_count": 613,
     "metadata": {},
     "output_type": "execute_result"
    }
   ],
   "source": [
    "cust_df_new_v1.shape"
   ]
  },
  {
   "cell_type": "code",
   "execution_count": 614,
   "metadata": {
    "scrolled": true
   },
   "outputs": [],
   "source": [
    "cust_df_new_v1 = pd.DataFrame(imputer.transform(cust_df_new_v1), columns = cust_df_new_v1.columns)"
   ]
  },
  {
   "cell_type": "code",
   "execution_count": 615,
   "metadata": {},
   "outputs": [],
   "source": [
    "#ss = StandardScaler(with_mean=False, with_std=True)\n",
    "cust_df_new_v1.reset_index(drop=True,inplace=True)\n",
    "cust_df_scaled = pd.DataFrame(ss.transform(cust_df_new_v1), columns = cust_df_new_v1.columns)"
   ]
  },
  {
   "cell_type": "code",
   "execution_count": 616,
   "metadata": {},
   "outputs": [
    {
     "data": {
      "text/plain": [
       "(191652, 109)"
      ]
     },
     "execution_count": 616,
     "metadata": {},
     "output_type": "execute_result"
    }
   ],
   "source": [
    "#cust_df_scaled.drop(columns=['level_0'],inplace=True)\n",
    "cust_df_scaled.shape"
   ]
  },
  {
   "cell_type": "code",
   "execution_count": 617,
   "metadata": {},
   "outputs": [],
   "source": [
    "cust_df_scaled_pca = pca_var.transform(cust_df_scaled)"
   ]
  },
  {
   "cell_type": "code",
   "execution_count": 618,
   "metadata": {},
   "outputs": [],
   "source": [
    "Customer_cluster= model.predict(cust_df_scaled_pca)"
   ]
  },
  {
   "cell_type": "code",
   "execution_count": 619,
   "metadata": {},
   "outputs": [
    {
     "data": {
      "text/plain": [
       "array([6, 6, 6, ..., 6, 6, 6])"
      ]
     },
     "execution_count": 619,
     "metadata": {},
     "output_type": "execute_result"
    }
   ],
   "source": [
    "Customer_cluster"
   ]
  },
  {
   "cell_type": "markdown",
   "metadata": {},
   "source": [
    "### Step 3.3: Compare Customer Data to Demographics Data\n",
    "\n",
    "At this point, you have clustered data based on demographics of the general population of Germany, and seen how the customer data for a mail-order sales company maps onto those demographic clusters. In this final substep, you will compare the two cluster distributions to see where the strongest customer base for the company is.\n",
    "\n",
    "Consider the proportion of persons in each cluster for the general population, and the proportions for the customers. If we think the company's customer base to be universal, then the cluster assignment proportions should be fairly similar between the two. If there are only particular segments of the population that are interested in the company's products, then we should see a mismatch from one to the other. If there is a higher proportion of persons in a cluster for the customer data compared to the general population (e.g. 5% of persons are assigned to a cluster for the general population, but 15% of the customer data is closest to that cluster's centroid) then that suggests the people in that cluster to be a target audience for the company. On the other hand, the proportion of the data in a cluster being larger in the general population than the customer data (e.g. only 2% of customers closest to a population centroid that captures 6% of the data) suggests that group of persons to be outside of the target demographics.\n",
    "\n",
    "Take a look at the following points in this step:\n",
    "\n",
    "- Compute the proportion of data points in each cluster for the general population and the customer data. Visualizations will be useful here: both for the individual dataset proportions, but also to visualize the ratios in cluster representation between groups. Seaborn's [`countplot()`](https://seaborn.pydata.org/generated/seaborn.countplot.html) or [`barplot()`](https://seaborn.pydata.org/generated/seaborn.barplot.html) function could be handy.\n",
    "  - Recall the analysis you performed in step 1.1.3 of the project, where you separated out certain data points from the dataset if they had more than a specified threshold of missing values. If you found that this group was qualitatively different from the main bulk of the data, you should treat this as an additional data cluster in this analysis. Make sure that you account for the number of data points in this subset, for both the general population and customer datasets, when making your computations!\n",
    "- Which cluster or clusters are overrepresented in the customer dataset compared to the general population? Select at least one such cluster and infer what kind of people might be represented by that cluster. Use the principal component interpretations from step 2.3 or look at additional components to help you make this inference. Alternatively, you can use the `.inverse_transform()` method of the PCA and StandardScaler objects to transform centroids back to the original data space and interpret the retrieved values directly.\n",
    "- Perform a similar investigation for the underrepresented clusters. Which cluster or clusters are underrepresented in the customer dataset compared to the general population, and what kinds of people are typified by these clusters?"
   ]
  },
  {
   "cell_type": "code",
   "execution_count": 621,
   "metadata": {},
   "outputs": [
    {
     "data": {
      "text/plain": [
       "Text(0.5, 1.0, 'General Clusters')"
      ]
     },
     "execution_count": 621,
     "metadata": {},
     "output_type": "execute_result"
    },
    {
     "data": {
      "image/png": "[encoded data removed]",
      "text/plain": [
       "<Figure size 504x144 with 2 Axes>"
      ]
     },
     "metadata": {
      "needs_background": "light"
     },
     "output_type": "display_data"
    }
   ],
   "source": [
    "# Compare the proportion of data in each cluster for the customer data to the\n",
    "# proportion of data in each cluster for the general population.\n",
    "import matplotlib.pyplot as plt\n",
    "figure, axs = plt.subplots(nrows=1, ncols=2, figsize = (7,2))\n",
    "figure.subplots_adjust(hspace = 1, wspace=.3)\n",
    "#cust_cldf = pd.DataFrame (Customer_cluster, columns = ['customers_cluster'])\n",
    "\n",
    "sns.countplot(Customer_cluster, ax=axs[0])\n",
    "axs[0].set_title('Customer Clusters')\n",
    "sns.countplot(score_new, ax=axs[1])\n",
    "axs[1].set_title('General Clusters')"
   ]
  },
  {
   "cell_type": "code",
   "execution_count": null,
   "metadata": {},
   "outputs": [],
   "source": [
    "# What kinds of people are part of a cluster that is overrepresented in the\n",
    "# customer data compared to the general population?\n",
    "\n"
   ]
  },
  {
   "cell_type": "code",
   "execution_count": null,
   "metadata": {},
   "outputs": [],
   "source": [
    "# What kinds of people are part of a cluster that is underrepresented in the\n",
    "# customer data compared to the general population?\n",
    "\n"
   ]
  },
  {
   "cell_type": "markdown",
   "metadata": {},
   "source": [
    "### Discussion 3.3: Compare Customer Data to Demographics Data\n",
    "\n",
    "(Double-click this cell and replace this text with your own text, reporting findings and conclusions from the clustering analysis. Can we describe segments of the population that are relatively popular with the mail-order company, or relatively unpopular with the company?)"
   ]
  },
  {
   "cell_type": "markdown",
   "metadata": {},
   "source": [
    "> Congratulations on making it this far in the project! Before you finish, make sure to check through the entire notebook from top to bottom to make sure that your analysis follows a logical flow and all of your findings are documented in **Discussion** cells. Once you've checked over all of your work, you should export the notebook as an HTML document to submit for evaluation. You can do this from the menu, navigating to **File -> Download as -> HTML (.html)**. You will submit both that document and this notebook for your project submission."
   ]
  },
  {
   "cell_type": "code",
   "execution_count": null,
   "metadata": {},
   "outputs": [],
   "source": []
  }
 ],
 "metadata": {
  "kernelspec": {
   "display_name": "Python 3",
   "language": "python",
   "name": "python3"
  },
  "language_info": {
   "codemirror_mode": {
    "name": "ipython",
    "version": 3
   },
   "file_extension": ".py",
   "mimetype": "text/x-python",
   "name": "python",
   "nbconvert_exporter": "python",
   "pygments_lexer": "ipython3",
   "version": "3.6.2"
  }
 },
 "nbformat": 4,
 "nbformat_minor": 2
}
